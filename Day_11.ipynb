{
  "nbformat": 4,
  "nbformat_minor": 0,
  "metadata": {
    "colab": {
      "provenance": []
    },
    "kernelspec": {
      "name": "python3",
      "display_name": "Python 3"
    },
    "language_info": {
      "name": "python"
    }
  },
  "cells": [
    {
      "cell_type": "markdown",
      "source": [
        "# **Dictionaries in Python**"
      ],
      "metadata": {
        "id": "HEoRngTvnTds"
      }
    },
    {
      "cell_type": "markdown",
      "source": [
        "Python dictionary is a data structure that stores the value in key: value pairs.\n",
        "\n",
        "Values in a dictionary :\n",
        "\n",
        "\n",
        "*   can be of any data type\n",
        "*   can be duplicated\n",
        "\n",
        "Dictionary keys are case sensitive, can't be repeated and must be immutable"
      ],
      "metadata": {
        "id": "Iu44W95AnYOA"
      }
    },
    {
      "cell_type": "markdown",
      "source": [
        "**Example**"
      ],
      "metadata": {
        "id": "uXl_k6wgn5NW"
      }
    },
    {
      "cell_type": "code",
      "source": [
        "d = {1:'Geeks', 2:'For', 3:'Geeks'}\n",
        "print(d)"
      ],
      "metadata": {
        "colab": {
          "base_uri": "https://localhost:8080/"
        },
        "id": "YS9t6lYKn3Ko",
        "outputId": "85b52d33-445a-4fe5-b4c4-5f0512af62e4"
      },
      "execution_count": 1,
      "outputs": [
        {
          "output_type": "stream",
          "name": "stdout",
          "text": [
            "{1: 'Geeks', 2: 'For', 3: 'Geeks'}\n"
          ]
        }
      ]
    },
    {
      "cell_type": "markdown",
      "source": [
        " **How to Create a Dictionary**"
      ],
      "metadata": {
        "id": "6aF1ZvWPoahF"
      }
    },
    {
      "cell_type": "code",
      "source": [
        "d1 = {1: 'Geeks', 2: 'For', 3: 'Geeks'}\n",
        "print(d1)"
      ],
      "metadata": {
        "colab": {
          "base_uri": "https://localhost:8080/"
        },
        "id": "NAua_P2rogJJ",
        "outputId": "ed82e155-b939-4dc7-ddca-ac6708e184a1"
      },
      "execution_count": 2,
      "outputs": [
        {
          "output_type": "stream",
          "name": "stdout",
          "text": [
            "{1: 'Geeks', 2: 'For', 3: 'Geeks'}\n"
          ]
        }
      ]
    },
    {
      "cell_type": "code",
      "source": [
        "# create dictionary using dict() constructor\n",
        "d2 = dict(a = \"Geeks\", b = \"for\", c = \"Geeks\")\n",
        "print(d2)"
      ],
      "metadata": {
        "colab": {
          "base_uri": "https://localhost:8080/"
        },
        "id": "TMgHmXK8okpk",
        "outputId": "a6305f13-7870-4924-c8bf-e20b43b6488f"
      },
      "execution_count": 3,
      "outputs": [
        {
          "output_type": "stream",
          "name": "stdout",
          "text": [
            "{'a': 'Geeks', 'b': 'for', 'c': 'Geeks'}\n"
          ]
        }
      ]
    },
    {
      "cell_type": "markdown",
      "source": [
        "**Accessing Dictionary Items**"
      ],
      "metadata": {
        "id": "qXfvb7ZBozEZ"
      }
    },
    {
      "cell_type": "code",
      "source": [
        "d = {\"name\":\"Priya\", 1:\"Python\", (1,2):[1,2,4]}\n",
        "\n",
        "# Access using key\n",
        "print(d[\"name\"])\n",
        "\n",
        "# Access using get()\n",
        "print(d.get(\"name\"))"
      ],
      "metadata": {
        "colab": {
          "base_uri": "https://localhost:8080/"
        },
        "id": "BaG1LMLoo2ER",
        "outputId": "968f7d83-70ba-4b4c-e6b9-cf0fa8dab4f7"
      },
      "execution_count": 4,
      "outputs": [
        {
          "output_type": "stream",
          "name": "stdout",
          "text": [
            "Priya\n",
            "Priya\n"
          ]
        }
      ]
    },
    {
      "cell_type": "markdown",
      "source": [
        "**Adding and Updating Dictionary Items**"
      ],
      "metadata": {
        "id": "9lLDBZh5pZ2C"
      }
    },
    {
      "cell_type": "code",
      "source": [
        "d = {1: 'Geeks', 2: 'For', 3: 'Geeks'}\n",
        "\n",
        "# Adding a new key-value pair\n",
        "d[\"age\"] = 22\n",
        "\n",
        "# Updating an existing value\n",
        "d[1] = \"Python dict\"\n",
        "\n",
        "print(d)"
      ],
      "metadata": {
        "colab": {
          "base_uri": "https://localhost:8080/"
        },
        "id": "DsQ7DF9UpYhD",
        "outputId": "47be5b05-748e-4bc7-920d-7f3516d60131"
      },
      "execution_count": 5,
      "outputs": [
        {
          "output_type": "stream",
          "name": "stdout",
          "text": [
            "{1: 'Python dict', 2: 'For', 3: 'Geeks', 'age': 22}\n"
          ]
        }
      ]
    },
    {
      "cell_type": "markdown",
      "source": [
        "**Removing Dictionary Items**\n",
        "\n",
        "del,  pop( ),  clear( ),  popitem( )"
      ],
      "metadata": {
        "id": "Q2oiImtSpj5d"
      }
    },
    {
      "cell_type": "code",
      "source": [
        "d = {1: 'Geeks', 2: 'For', 3: 'Geeks', 'age':22}\n",
        "\n",
        "# Using del to remove an item\n",
        "del d[\"age\"]\n",
        "print(d)\n",
        "\n",
        "# Using pop() to remove an item and return the value\n",
        "val = d.pop(1)\n",
        "print(val)\n",
        "\n",
        "# Using popitem to removes and returns\n",
        "# the last key-value pair.\n",
        "key, val = d.popitem()\n",
        "print(f\"Key: {key}, Value: {val}\")\n",
        "\n",
        "# Clear all items from the dictionary\n",
        "d.clear()\n",
        "print(d)"
      ],
      "metadata": {
        "colab": {
          "base_uri": "https://localhost:8080/"
        },
        "id": "cSFJTp0qp17C",
        "outputId": "fd79dc14-309d-4fa3-a1fc-cdda59cde2df"
      },
      "execution_count": 6,
      "outputs": [
        {
          "output_type": "stream",
          "name": "stdout",
          "text": [
            "{1: 'Geeks', 2: 'For', 3: 'Geeks'}\n",
            "Geeks\n",
            "Key: 3, Value: Geeks\n",
            "{}\n"
          ]
        }
      ]
    },
    {
      "cell_type": "markdown",
      "source": [
        "**Iterating Through a Dictionary**"
      ],
      "metadata": {
        "id": "BYb0intAqQUp"
      }
    },
    {
      "cell_type": "code",
      "source": [
        "d = {1: 'Geeks', 2: 'For', 'age':22}\n",
        "\n",
        "# Iterate over keys\n",
        "for key in d:\n",
        "    print(key)\n",
        "\n",
        "# Iterate over values\n",
        "for value in d.values():\n",
        "    print(value)\n",
        "\n",
        "# Iterate over key-value pairs\n",
        "for key, value in d.items():\n",
        "    print(f\"{key}: {value}\")"
      ],
      "metadata": {
        "colab": {
          "base_uri": "https://localhost:8080/"
        },
        "id": "ncwwantOqR-z",
        "outputId": "54926911-45db-44a8-d63b-dfb80f582a82"
      },
      "execution_count": 7,
      "outputs": [
        {
          "output_type": "stream",
          "name": "stdout",
          "text": [
            "1\n",
            "2\n",
            "age\n",
            "Geeks\n",
            "For\n",
            "22\n",
            "1: Geeks\n",
            "2: For\n",
            "age: 22\n"
          ]
        }
      ]
    },
    {
      "cell_type": "markdown",
      "source": [
        "### **Nested Dictionary:**"
      ],
      "metadata": {
        "id": "G6fPlBRFqdRn"
      }
    },
    {
      "cell_type": "code",
      "source": [
        "d = {1: 'Geeks', 2: 'For',\n",
        "        3: {'A': 'Welcome', 'B': 'To', 'C': 'Geeks'}}\n",
        "\n",
        "print(d)"
      ],
      "metadata": {
        "colab": {
          "base_uri": "https://localhost:8080/"
        },
        "id": "molI2UPBqbu-",
        "outputId": "347f8549-f709-42f7-eef1-60a357af4c39"
      },
      "execution_count": 8,
      "outputs": [
        {
          "output_type": "stream",
          "name": "stdout",
          "text": [
            "{1: 'Geeks', 2: 'For', 3: {'A': 'Welcome', 'B': 'To', 'C': 'Geeks'}}\n"
          ]
        }
      ]
    }
  ]
}