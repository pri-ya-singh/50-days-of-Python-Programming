{
  "nbformat": 4,
  "nbformat_minor": 0,
  "metadata": {
    "colab": {
      "provenance": []
    },
    "kernelspec": {
      "name": "python3",
      "display_name": "Python 3"
    },
    "language_info": {
      "name": "python"
    }
  },
  "cells": [
    {
      "cell_type": "markdown",
      "source": [
        "# **Python Variables**"
      ],
      "metadata": {
        "id": "eG9pitFCjf9q"
      }
    },
    {
      "cell_type": "markdown",
      "source": [
        "( variables are used to store data )"
      ],
      "metadata": {
        "id": "yi9m5iq-jlQj"
      }
    },
    {
      "cell_type": "markdown",
      "source": [
        "**Example:**"
      ],
      "metadata": {
        "id": "EcZGOeoUju7z"
      }
    },
    {
      "cell_type": "code",
      "source": [
        "x = 5            # Variable 'x' stores the integer value 5\n",
        "name = \"Priya\"   # Variable 'name' stores the string \"Priya\"\n",
        "\n",
        "print(x)\n",
        "print(name)"
      ],
      "metadata": {
        "colab": {
          "base_uri": "https://localhost:8080/"
        },
        "id": "oplBADR-jsWb",
        "outputId": "f657e407-5291-428f-a669-0546b55608b7"
      },
      "execution_count": 1,
      "outputs": [
        {
          "output_type": "stream",
          "name": "stdout",
          "text": [
            "5\n",
            "Priya\n"
          ]
        }
      ]
    },
    {
      "cell_type": "markdown",
      "source": [
        "**Rules for Naming Variables :**\n",
        "\n",
        "\n",
        "*   Variable names can only contain letters, digits and underscores (_)\n",
        "*   A variable name cannot start with a digit.\n",
        "*   Variable names are case-sensitive (myVar and myvar are different).\n",
        "*   Avoid using Python keywords (e.g., if, else, for) as variable names."
      ],
      "metadata": {
        "id": "ayVWFNJkkM6F"
      }
    },
    {
      "cell_type": "markdown",
      "source": [
        "**Valid Example:**"
      ],
      "metadata": {
        "id": "ZgOZr_aqkn9m"
      }
    },
    {
      "cell_type": "code",
      "source": [
        "age = 21\n",
        "_colour = \"red\"\n",
        "total_Score = 90\n",
        "\n",
        "print(age, _colour, total_Score)"
      ],
      "metadata": {
        "colab": {
          "base_uri": "https://localhost:8080/"
        },
        "id": "EVR4bSoCkm7T",
        "outputId": "a20969b5-90f2-4837-df64-e6b5dd3b7d16"
      },
      "execution_count": 2,
      "outputs": [
        {
          "output_type": "stream",
          "name": "stdout",
          "text": [
            "21 red 90\n"
          ]
        }
      ]
    },
    {
      "cell_type": "markdown",
      "source": [
        "**Invalid Example:**"
      ],
      "metadata": {
        "id": "dh93cd4yk8YU"
      }
    },
    {
      "cell_type": "code",
      "source": [
        "1name = \"error\"    # Starts with a digit\n",
        "class = 10         # 'class' is a reserved keyword\n",
        "user-name = \"user\"   # Contains a hyphen"
      ],
      "metadata": {
        "colab": {
          "base_uri": "https://localhost:8080/",
          "height": 106
        },
        "id": "7T9lgcD7lAaO",
        "outputId": "6a22ea41-8713-4654-9913-38b08421e6f4"
      },
      "execution_count": 3,
      "outputs": [
        {
          "output_type": "error",
          "ename": "SyntaxError",
          "evalue": "invalid decimal literal (ipython-input-4013414472.py, line 1)",
          "traceback": [
            "\u001b[0;36m  File \u001b[0;32m\"/tmp/ipython-input-4013414472.py\"\u001b[0;36m, line \u001b[0;32m1\u001b[0m\n\u001b[0;31m    1name = \"error\"    # Starts with a digit\u001b[0m\n\u001b[0m    ^\u001b[0m\n\u001b[0;31mSyntaxError\u001b[0m\u001b[0;31m:\u001b[0m invalid decimal literal\n"
          ]
        }
      ]
    },
    {
      "cell_type": "markdown",
      "source": [
        "# **Assigning Values to Variables**"
      ],
      "metadata": {
        "id": "6es12te7lUQ4"
      }
    },
    {
      "cell_type": "markdown",
      "source": [
        "Basic Assignment"
      ],
      "metadata": {
        "id": "bn28njbplZqG"
      }
    },
    {
      "cell_type": "code",
      "source": [
        "x = 12\n",
        "y = 3.24\n",
        "z = \"Priya\""
      ],
      "metadata": {
        "id": "k2TpRUu7ldyR"
      },
      "execution_count": 4,
      "outputs": []
    },
    {
      "cell_type": "markdown",
      "source": [
        "Dynamic Typing"
      ],
      "metadata": {
        "id": "AMmaVaIClkrK"
      }
    },
    {
      "cell_type": "code",
      "source": [
        "x =10\n",
        "x = \"is a string\""
      ],
      "metadata": {
        "id": "3OhAUTT3lnRC"
      },
      "execution_count": 5,
      "outputs": []
    },
    {
      "cell_type": "markdown",
      "source": [
        "Multiple Assignments"
      ],
      "metadata": {
        "id": "w6WA6nmelto7"
      }
    },
    {
      "cell_type": "code",
      "source": [
        "a = b= c = 25\n",
        "print(a, b, c)"
      ],
      "metadata": {
        "colab": {
          "base_uri": "https://localhost:8080/"
        },
        "id": "UtBcQyZKlwA9",
        "outputId": "43b4afd3-193b-4c04-bb2b-9fc0f089b752"
      },
      "execution_count": 6,
      "outputs": [
        {
          "output_type": "stream",
          "name": "stdout",
          "text": [
            "25 25 25\n"
          ]
        }
      ]
    },
    {
      "cell_type": "code",
      "source": [
        "a, b, c = 1, 2.5, \"Hi\"\n",
        "print(a, b, c)"
      ],
      "metadata": {
        "colab": {
          "base_uri": "https://localhost:8080/"
        },
        "id": "gs_I5xFwl4MN",
        "outputId": "ac7b106b-344b-411e-d9ec-85fd9e83f03f"
      },
      "execution_count": 7,
      "outputs": [
        {
          "output_type": "stream",
          "name": "stdout",
          "text": [
            "1 2.5 Hi\n"
          ]
        }
      ]
    },
    {
      "cell_type": "markdown",
      "source": [
        "# **Type Casting a Variable**"
      ],
      "metadata": {
        "id": "8pbAnxJ4mBnk"
      }
    },
    {
      "cell_type": "markdown",
      "source": [
        "(Type casting refers to the process of converting the value of one data type into another.)"
      ],
      "metadata": {
        "id": "25ERsEFemFIm"
      }
    },
    {
      "cell_type": "markdown",
      "source": [
        "**Basic Casting Functions**\n",
        "\n",
        "\n",
        "*   **int()** - Converts compatible values to an integer.\n",
        "*   **float()** - Transforms values into floating-point numbers.\n",
        "*   **str()** - Converts any data type into a string."
      ],
      "metadata": {
        "id": "2SBxl8qLmLB9"
      }
    },
    {
      "cell_type": "markdown",
      "source": [
        "**Examples**"
      ],
      "metadata": {
        "id": "7ALIF1hemeGZ"
      }
    },
    {
      "cell_type": "code",
      "source": [
        "s = \"10\"\n",
        "n = int(s)\n",
        "print(n)"
      ],
      "metadata": {
        "colab": {
          "base_uri": "https://localhost:8080/"
        },
        "id": "DD0XSyXWmi_f",
        "outputId": "ee6418a4-f083-4804-cb71-c182b2ec1948"
      },
      "execution_count": 8,
      "outputs": [
        {
          "output_type": "stream",
          "name": "stdout",
          "text": [
            "10\n"
          ]
        }
      ]
    },
    {
      "cell_type": "code",
      "source": [
        "cnt = 5\n",
        "f = float(cnt)\n",
        "print(f)"
      ],
      "metadata": {
        "colab": {
          "base_uri": "https://localhost:8080/"
        },
        "id": "hcO5BEhMmt5Y",
        "outputId": "9188b273-7b82-4926-cff3-7050ee7fd5b0"
      },
      "execution_count": 9,
      "outputs": [
        {
          "output_type": "stream",
          "name": "stdout",
          "text": [
            "5.0\n"
          ]
        }
      ]
    },
    {
      "cell_type": "code",
      "source": [
        "age = 20\n",
        "s = str(age)\n",
        "print(s)"
      ],
      "metadata": {
        "colab": {
          "base_uri": "https://localhost:8080/"
        },
        "id": "bEksxFBqm11s",
        "outputId": "8f3f5575-d63e-4670-c53b-2c9c09d63ca0"
      },
      "execution_count": 10,
      "outputs": [
        {
          "output_type": "stream",
          "name": "stdout",
          "text": [
            "20\n"
          ]
        }
      ]
    },
    {
      "cell_type": "markdown",
      "source": [
        "# **Getting the Type of Variable**"
      ],
      "metadata": {
        "id": "4xoS_7LunBz8"
      }
    },
    {
      "cell_type": "markdown",
      "source": [
        "Example using type()"
      ],
      "metadata": {
        "id": "N0V5vWI4nGIZ"
      }
    },
    {
      "cell_type": "code",
      "source": [
        "n = 42\n",
        "f =3.14\n",
        "s = \"Hello Python\"\n",
        "li = [1,2,3]\n",
        "d= {'key' : 'value'}\n",
        "b = True\n",
        "\n",
        "print(type(n))\n",
        "print(type(f))\n",
        "print(type(s))\n",
        "print(type(li))\n",
        "print(type(d))\n",
        "print(type(b))"
      ],
      "metadata": {
        "colab": {
          "base_uri": "https://localhost:8080/"
        },
        "id": "7dAUhjofnLbE",
        "outputId": "9d1f68b4-b4ca-4cfe-cd34-b703f692538b"
      },
      "execution_count": 13,
      "outputs": [
        {
          "output_type": "stream",
          "name": "stdout",
          "text": [
            "<class 'int'>\n",
            "<class 'float'>\n",
            "<class 'str'>\n",
            "<class 'list'>\n",
            "<class 'dict'>\n",
            "<class 'bool'>\n"
          ]
        }
      ]
    },
    {
      "cell_type": "markdown",
      "source": [
        "# **Object Reference in Python**"
      ],
      "metadata": {
        "id": "AbTG-qXony6I"
      }
    },
    {
      "cell_type": "code",
      "source": [
        "x = 5  #assign a variable x to value 5.\n",
        "y = x  #assign another variable y to the variable x.\n",
        "\n",
        "#Now, if we write\n",
        "x = 'Geeks'\n",
        "#If we now assign a new value to y:\n",
        "y = \"Computer\"\n",
        "\n",
        "# Python creates yet another object for \"Computer\" and updates y to reference it.\n",
        "# The original object 5 no longer has any references and becomes eligible for garbage collection."
      ],
      "metadata": {
        "id": "W_WAa53_n5K8"
      },
      "execution_count": 14,
      "outputs": []
    },
    {
      "cell_type": "markdown",
      "source": [
        "# **Delete a Variable Using del Keyword**"
      ],
      "metadata": {
        "id": "QQD6tQwfpaWN"
      }
    },
    {
      "cell_type": "code",
      "source": [
        "x = 10\n",
        "print(x)\n",
        "del x\n",
        "print(x)"
      ],
      "metadata": {
        "colab": {
          "base_uri": "https://localhost:8080/",
          "height": 193
        },
        "id": "JVtoQAwopeWv",
        "outputId": "55a01f88-ae53-467f-c44d-c4163147f30d"
      },
      "execution_count": 18,
      "outputs": [
        {
          "output_type": "stream",
          "name": "stdout",
          "text": [
            "10\n"
          ]
        },
        {
          "output_type": "error",
          "ename": "NameError",
          "evalue": "name 'x' is not defined",
          "traceback": [
            "\u001b[0;31m---------------------------------------------------------------------------\u001b[0m",
            "\u001b[0;31mNameError\u001b[0m                                 Traceback (most recent call last)",
            "\u001b[0;32m/tmp/ipython-input-2039057304.py\u001b[0m in \u001b[0;36m<cell line: 0>\u001b[0;34m()\u001b[0m\n\u001b[1;32m      2\u001b[0m \u001b[0mprint\u001b[0m\u001b[0;34m(\u001b[0m\u001b[0mx\u001b[0m\u001b[0;34m)\u001b[0m\u001b[0;34m\u001b[0m\u001b[0;34m\u001b[0m\u001b[0m\n\u001b[1;32m      3\u001b[0m \u001b[0;32mdel\u001b[0m \u001b[0mx\u001b[0m\u001b[0;34m\u001b[0m\u001b[0;34m\u001b[0m\u001b[0m\n\u001b[0;32m----> 4\u001b[0;31m \u001b[0mprint\u001b[0m\u001b[0;34m(\u001b[0m\u001b[0mx\u001b[0m\u001b[0;34m)\u001b[0m\u001b[0;34m\u001b[0m\u001b[0;34m\u001b[0m\u001b[0m\n\u001b[0m",
            "\u001b[0;31mNameError\u001b[0m: name 'x' is not defined"
          ]
        }
      ]
    },
    {
      "cell_type": "markdown",
      "source": [
        "# **Practical Examples**"
      ],
      "metadata": {
        "id": "xS87c0LSp2kX"
      }
    },
    {
      "cell_type": "markdown",
      "source": [
        "1. Swapping Two Variables"
      ],
      "metadata": {
        "id": "8S5AOaZVp5qb"
      }
    },
    {
      "cell_type": "code",
      "source": [
        "a, b = 1, 2\n",
        "a, b = b, a\n",
        "print(a, b)"
      ],
      "metadata": {
        "colab": {
          "base_uri": "https://localhost:8080/"
        },
        "id": "PS_8YFfopn4z",
        "outputId": "d1357e8d-ea81-4d04-b98d-32c6e93ef721"
      },
      "execution_count": 19,
      "outputs": [
        {
          "output_type": "stream",
          "name": "stdout",
          "text": [
            "2 1\n"
          ]
        }
      ]
    },
    {
      "cell_type": "markdown",
      "source": [
        "2. Counting Characters in a String"
      ],
      "metadata": {
        "id": "3a8jqM98qCbI"
      }
    },
    {
      "cell_type": "code",
      "source": [
        "p = \"python\"\n",
        "length = len(p)\n",
        "print(\"Length of p is : \", length)"
      ],
      "metadata": {
        "colab": {
          "base_uri": "https://localhost:8080/"
        },
        "id": "cIvSV-4JqEsY",
        "outputId": "80700557-7d61-4d21-e5c4-3b2f0e59145d"
      },
      "execution_count": 20,
      "outputs": [
        {
          "output_type": "stream",
          "name": "stdout",
          "text": [
            "Length of p is :  6\n"
          ]
        }
      ]
    },
    {
      "cell_type": "markdown",
      "source": [
        "# **Scope of a Variable**\n",
        "\n",
        "**1. Local Variables:**\n",
        "*   Defined within a function or block, accessible only inside that scope.\n",
        "*   Destroyed once the function/block ends.\n",
        "*   Temporary, used for short-term data.\n",
        "\n",
        "**2. Global Variables:**\n",
        "*   Defined outside functions, accessible throughout the program.\n",
        "*   To modify within a function, use the global keyword.\n",
        "*   Persist in memory for the program’s duration, useful for shared data."
      ],
      "metadata": {
        "id": "SV8yBL5aqWIo"
      }
    },
    {
      "cell_type": "markdown",
      "source": [
        "# **Python Keywords**"
      ],
      "metadata": {
        "id": "IMmkWKH4r4pR"
      }
    },
    {
      "cell_type": "markdown",
      "source": [
        "Keywords in Python are reserved words that have special meanings and serve specific purposes in the language syntax. Python keywords cannot be used as the names of variables, functions, and classes or any other identifier."
      ],
      "metadata": {
        "id": "jCLOmNxbr_i7"
      }
    },
    {
      "cell_type": "markdown",
      "source": [
        "**Getting List of all Python keywords**"
      ],
      "metadata": {
        "id": "IlJVybC_sEfT"
      }
    },
    {
      "cell_type": "code",
      "source": [
        "import keyword\n",
        "\n",
        "print(\"The list of keyword is : \")\n",
        "print(keyword.kwlist)"
      ],
      "metadata": {
        "colab": {
          "base_uri": "https://localhost:8080/"
        },
        "id": "_nYCtjbIq_Lx",
        "outputId": "72854aa3-2e4d-445a-dd82-378a1097b154"
      },
      "execution_count": 22,
      "outputs": [
        {
          "output_type": "stream",
          "name": "stdout",
          "text": [
            "The list of keyword is : \n",
            "['False', 'None', 'True', 'and', 'as', 'assert', 'async', 'await', 'break', 'class', 'continue', 'def', 'del', 'elif', 'else', 'except', 'finally', 'for', 'from', 'global', 'if', 'import', 'in', 'is', 'lambda', 'nonlocal', 'not', 'or', 'pass', 'raise', 'return', 'try', 'while', 'with', 'yield']\n"
          ]
        }
      ]
    }
  ]
}