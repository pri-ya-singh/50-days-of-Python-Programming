{
  "nbformat": 4,
  "nbformat_minor": 0,
  "metadata": {
    "colab": {
      "provenance": []
    },
    "kernelspec": {
      "name": "python3",
      "display_name": "Python 3"
    },
    "language_info": {
      "name": "python"
    }
  },
  "cells": [
    {
      "cell_type": "markdown",
      "source": [
        "# **Python Lists**"
      ],
      "metadata": {
        "id": "IYSIUiXaSZR5"
      }
    },
    {
      "cell_type": "markdown",
      "source": [
        "\n",
        "\n",
        "*   List can contain duplicate items.\n",
        "*   List in Python are Mutable. Hence, we can modify, replace or delete the items.\n",
        "*   List are ordered. It maintain the order of elements based on how they are added.\n",
        "*   Accessing items in List can be done directly using their position (index), starting from 0.\n",
        "\n"
      ],
      "metadata": {
        "id": "TIVp6rWkS4Rk"
      }
    },
    {
      "cell_type": "code",
      "source": [
        "a=[10,20,'GFG', 40, True]\n",
        "print(a)\n",
        "\n",
        "print(a[0])\n",
        "print(a[3])\n",
        "\n",
        "print(type(a[2]))\n",
        "print(type(a[4]))"
      ],
      "metadata": {
        "colab": {
          "base_uri": "https://localhost:8080/"
        },
        "id": "MsDOJLOmTNHV",
        "outputId": "3a025a66-3562-4103-bebd-5e85d7e6083d"
      },
      "execution_count": 1,
      "outputs": [
        {
          "output_type": "stream",
          "name": "stdout",
          "text": [
            "[10, 20, 'GFG', 40, True]\n",
            "10\n",
            "40\n",
            "<class 'str'>\n",
            "<class 'bool'>\n"
          ]
        }
      ]
    },
    {
      "cell_type": "markdown",
      "source": [
        "**Creating a List**"
      ],
      "metadata": {
        "id": "o6qMtQ5WT1me"
      }
    },
    {
      "cell_type": "code",
      "source": [
        "# List of integers\n",
        "a = [1, 2, 3, 4, 5]\n",
        "\n",
        "# List of strings\n",
        "b = ['apple', 'banana', 'cherry']\n",
        "\n",
        "# Mixed data types\n",
        "c = [1, 'hello', 3.14, True]\n",
        "\n",
        "print(a)\n",
        "print(b)\n",
        "print(c)"
      ],
      "metadata": {
        "colab": {
          "base_uri": "https://localhost:8080/"
        },
        "id": "gm0Vid-4T0u9",
        "outputId": "3b318ae1-b8fc-4319-b634-d13842f23210"
      },
      "execution_count": 2,
      "outputs": [
        {
          "output_type": "stream",
          "name": "stdout",
          "text": [
            "[1, 2, 3, 4, 5]\n",
            "['apple', 'banana', 'cherry']\n",
            "[1, 'hello', 3.14, True]\n"
          ]
        }
      ]
    },
    {
      "cell_type": "markdown",
      "source": [
        "**Using list() Constructor**"
      ],
      "metadata": {
        "id": "VAUfwwySUFgo"
      }
    },
    {
      "cell_type": "code",
      "source": [
        "a = list((1,2,3,'apple',4.5))\n",
        "print(a)"
      ],
      "metadata": {
        "colab": {
          "base_uri": "https://localhost:8080/"
        },
        "id": "M26tH9xkUHYp",
        "outputId": "bcf3ce01-8aa6-4253-be2c-3777dc5ef693"
      },
      "execution_count": 3,
      "outputs": [
        {
          "output_type": "stream",
          "name": "stdout",
          "text": [
            "[1, 2, 3, 'apple', 4.5]\n"
          ]
        }
      ]
    },
    {
      "cell_type": "markdown",
      "source": [
        "**Creating List with Repeated Elements**"
      ],
      "metadata": {
        "id": "_k6foPd3UTkm"
      }
    },
    {
      "cell_type": "code",
      "source": [
        "a = [2]*5\n",
        "b=[0]*7\n",
        "\n",
        "print(a)\n",
        "print(b)"
      ],
      "metadata": {
        "colab": {
          "base_uri": "https://localhost:8080/"
        },
        "id": "rNrAVPujUVKo",
        "outputId": "85cc7d4f-76ce-40fd-ca3a-ea327c4b718c"
      },
      "execution_count": 4,
      "outputs": [
        {
          "output_type": "stream",
          "name": "stdout",
          "text": [
            "[2, 2, 2, 2, 2]\n",
            "[0, 0, 0, 0, 0, 0, 0]\n"
          ]
        }
      ]
    },
    {
      "cell_type": "markdown",
      "source": [
        "**Accessing List Elements**"
      ],
      "metadata": {
        "id": "7okV7F-hUgy7"
      }
    },
    {
      "cell_type": "code",
      "source": [
        "a = [10, 20, 30, 40, 50]\n",
        "\n",
        "print(a[0])\n",
        "\n",
        "print(a[-1])"
      ],
      "metadata": {
        "colab": {
          "base_uri": "https://localhost:8080/"
        },
        "id": "s4YLPktNUiUx",
        "outputId": "92e598bc-7f4f-467a-89d7-5082f4de7aee"
      },
      "execution_count": 5,
      "outputs": [
        {
          "output_type": "stream",
          "name": "stdout",
          "text": [
            "10\n",
            "50\n"
          ]
        }
      ]
    },
    {
      "cell_type": "markdown",
      "source": [
        "**Adding Elements into List**\n",
        "* append(): Adds an element at the end of the list.\n",
        "* extend(): Adds multiple elements to the end of the list.\n",
        "* insert(): Adds an element at a specific position."
      ],
      "metadata": {
        "id": "Ov1OHMSAUq_-"
      }
    },
    {
      "cell_type": "code",
      "source": [
        "a = []\n",
        "a.append(10)\n",
        "print(\"After append(10):\", a)\n",
        "\n",
        "a.insert(0, 5)\n",
        "print(\"After insert(0, 5):\", a)\n",
        "\n",
        "a.extend([15, 20, 25])\n",
        "print(\"After extend([15, 20, 25]):\", a)"
      ],
      "metadata": {
        "colab": {
          "base_uri": "https://localhost:8080/"
        },
        "id": "2mBxDNTwU3WH",
        "outputId": "91421987-84af-4a6e-b98f-3d54009cea62"
      },
      "execution_count": 6,
      "outputs": [
        {
          "output_type": "stream",
          "name": "stdout",
          "text": [
            "After append(10): [10]\n",
            "After insert(0, 5): [5, 10]\n",
            "After extend([15, 20, 25]): [5, 10, 15, 20, 25]\n"
          ]
        }
      ]
    },
    {
      "cell_type": "markdown",
      "source": [
        "**Updating Elements into List**"
      ],
      "metadata": {
        "id": "dRPoYqUAVG06"
      }
    },
    {
      "cell_type": "code",
      "source": [
        "a = [10, 20, 30, 40, 50]\n",
        "\n",
        "a[1] =25\n",
        "print(a)"
      ],
      "metadata": {
        "colab": {
          "base_uri": "https://localhost:8080/"
        },
        "id": "lyLxVT1eVH0y",
        "outputId": "acc6f589-cb95-4ddc-e72f-f24e0315c270"
      },
      "execution_count": 7,
      "outputs": [
        {
          "output_type": "stream",
          "name": "stdout",
          "text": [
            "[10, 25, 30, 40, 50]\n"
          ]
        }
      ]
    },
    {
      "cell_type": "markdown",
      "source": [
        "**Removing Elements from List**"
      ],
      "metadata": {
        "id": "IVmgP2n_VQmT"
      }
    },
    {
      "cell_type": "markdown",
      "source": [
        "* remove(): Removes the first occurrence of an element.\n",
        "* pop(): Removes the element at a specific index or the last element if no index is specified.\n",
        "* del statement: Deletes an element at a specified index."
      ],
      "metadata": {
        "id": "t0lgJN8bVVqN"
      }
    },
    {
      "cell_type": "code",
      "source": [
        "a = [10, 20, 30, 40, 50]\n",
        "\n",
        "a.remove(30)\n",
        "print(\"After remove(30):\", a)\n",
        "\n",
        "popped_val = a.pop(1)\n",
        "print(\"Popped element:\", popped_val)\n",
        "print(\"After pop(1):\", a)\n",
        "\n",
        "del a[0]\n",
        "print(\"After del a[0]:\", a)"
      ],
      "metadata": {
        "colab": {
          "base_uri": "https://localhost:8080/"
        },
        "id": "H2Bnefv-VSNp",
        "outputId": "7e97e119-d51f-4477-d545-f082b6249de4"
      },
      "execution_count": 8,
      "outputs": [
        {
          "output_type": "stream",
          "name": "stdout",
          "text": [
            "After remove(30): [10, 20, 40, 50]\n",
            "Popped element: 20\n",
            "After pop(1): [10, 40, 50]\n",
            "After del a[0]: [40, 50]\n"
          ]
        }
      ]
    },
    {
      "cell_type": "markdown",
      "source": [
        "**Iterating Over Lists**"
      ],
      "metadata": {
        "id": "l3725PgZVu7I"
      }
    },
    {
      "cell_type": "markdown",
      "source": [
        "Using for Loop"
      ],
      "metadata": {
        "id": "pDba6fqrVzrV"
      }
    },
    {
      "cell_type": "code",
      "source": [
        "a = ['apple', 'banana', 'cherry']\n",
        "for item in a:\n",
        "  print(item)"
      ],
      "metadata": {
        "colab": {
          "base_uri": "https://localhost:8080/"
        },
        "id": "J_vlG-_cVwJR",
        "outputId": "f8d96f2c-9310-4826-ffdb-09c9c9e864a3"
      },
      "execution_count": 9,
      "outputs": [
        {
          "output_type": "stream",
          "name": "stdout",
          "text": [
            "apple\n",
            "banana\n",
            "cherry\n"
          ]
        }
      ]
    },
    {
      "cell_type": "markdown",
      "source": [
        "**Nested Lists in Python**"
      ],
      "metadata": {
        "id": "GkxtuzQVWBc1"
      }
    },
    {
      "cell_type": "code",
      "source": [
        "matrix =[\n",
        "    [1,2,3],\n",
        "    [4,5,6],\n",
        "    [7,8,9]\n",
        "]\n",
        "print(matrix[1][2])"
      ],
      "metadata": {
        "colab": {
          "base_uri": "https://localhost:8080/"
        },
        "id": "_TURYUEkWCpD",
        "outputId": "a7907021-b6ac-42d3-e7e2-94436ecabc75"
      },
      "execution_count": 10,
      "outputs": [
        {
          "output_type": "stream",
          "name": "stdout",
          "text": [
            "6\n"
          ]
        }
      ]
    },
    {
      "cell_type": "markdown",
      "source": [
        "**List Comprehension in Python**"
      ],
      "metadata": {
        "id": "e6lBklQ4WU2i"
      }
    },
    {
      "cell_type": "code",
      "source": [
        "squares = [x**2 for x in range(1,6)]\n",
        "print(squares)"
      ],
      "metadata": {
        "colab": {
          "base_uri": "https://localhost:8080/"
        },
        "id": "Gj4IKNO0WWJX",
        "outputId": "609fbdd7-e4e3-482d-a7ac-a11643245bd5"
      },
      "execution_count": 11,
      "outputs": [
        {
          "output_type": "stream",
          "name": "stdout",
          "text": [
            "[1, 4, 9, 16, 25]\n"
          ]
        }
      ]
    }
  ]
}