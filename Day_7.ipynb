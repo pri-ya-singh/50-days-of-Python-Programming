{
  "nbformat": 4,
  "nbformat_minor": 0,
  "metadata": {
    "colab": {
      "provenance": []
    },
    "kernelspec": {
      "name": "python3",
      "display_name": "Python 3"
    },
    "language_info": {
      "name": "python"
    }
  },
  "cells": [
    {
      "cell_type": "markdown",
      "source": [
        "# **Python Functions**"
      ],
      "metadata": {
        "id": "J_CQEb6kbeV-"
      }
    },
    {
      "cell_type": "markdown",
      "source": [
        "Python Functions is a block of statements that does a specific task."
      ],
      "metadata": {
        "id": "-50NaTCrbi-N"
      }
    },
    {
      "cell_type": "markdown",
      "source": [
        "**Types of Functions in Python**\n",
        "\n",
        "\n",
        "*   **Built-in library function:** These are Standard functions in Python that are available to use.\n",
        "*   **User-defined function:** We can create our own functions based on our requirements.\n",
        "\n"
      ],
      "metadata": {
        "id": "Z1KIEkI1jBQY"
      }
    },
    {
      "cell_type": "code",
      "source": [
        "def fun():\n",
        "  print(\"welcome to python function topic.\")"
      ],
      "metadata": {
        "id": "b8iDhQq8btBj"
      },
      "execution_count": null,
      "outputs": []
    },
    {
      "cell_type": "markdown",
      "source": [
        "**Calling a Function in Python**"
      ],
      "metadata": {
        "id": "C8PnPdZRjm1y"
      }
    },
    {
      "cell_type": "code",
      "source": [
        "def fun():\n",
        "  print(\"welcome to python function topic.\")\n",
        "\n",
        "fun()"
      ],
      "metadata": {
        "colab": {
          "base_uri": "https://localhost:8080/"
        },
        "id": "H1kMGswAjmCh",
        "outputId": "9128f95c-6071-4296-f0e2-f0fd39ee37eb"
      },
      "execution_count": null,
      "outputs": [
        {
          "output_type": "stream",
          "name": "stdout",
          "text": [
            "welcome to python function topic.\n"
          ]
        }
      ]
    },
    {
      "cell_type": "markdown",
      "source": [
        "**Python Function Arguments**"
      ],
      "metadata": {
        "id": "rfMcHM14jysn"
      }
    },
    {
      "cell_type": "code",
      "source": [
        "def evenOdd(x: int) ->str :\n",
        "  if(x %2 == 0):\n",
        "    return \"Even\"\n",
        "  else:\n",
        "    return \"Odd\"\n",
        "\n",
        "print(evenOdd(16))\n",
        "print(evenOdd(7))"
      ],
      "metadata": {
        "colab": {
          "base_uri": "https://localhost:8080/"
        },
        "id": "0n0lUCnij3Lr",
        "outputId": "db30aa95-1f98-4d7b-87b9-353c9f35b569"
      },
      "execution_count": null,
      "outputs": [
        {
          "output_type": "stream",
          "name": "stdout",
          "text": [
            "Even\n",
            "Odd\n"
          ]
        }
      ]
    },
    {
      "cell_type": "code",
      "source": [
        "def evenOdd(x):\n",
        "  if(x %2 == 0):\n",
        "    return \"Even\"\n",
        "  else:\n",
        "    return \"Odd\"\n",
        "\n",
        "print(evenOdd(16))\n",
        "print(evenOdd(7))"
      ],
      "metadata": {
        "colab": {
          "base_uri": "https://localhost:8080/"
        },
        "id": "N5woiQp2kZBx",
        "outputId": "baec0183-3244-4b66-b45c-ea02d3f16f90"
      },
      "execution_count": null,
      "outputs": [
        {
          "output_type": "stream",
          "name": "stdout",
          "text": [
            "Even\n",
            "Odd\n"
          ]
        }
      ]
    },
    {
      "cell_type": "markdown",
      "source": [
        "**Types of Python Function Arguments**"
      ],
      "metadata": {
        "id": "9-1I9Oipkluf"
      }
    },
    {
      "cell_type": "markdown",
      "source": [
        "Default Arguments"
      ],
      "metadata": {
        "id": "QnwLehNfkoBA"
      }
    },
    {
      "cell_type": "code",
      "source": [
        "def myfun(x, y =50):\n",
        "  print('x : ', x)\n",
        "  print('y : ', y)\n",
        "\n",
        "myfun(10)"
      ],
      "metadata": {
        "colab": {
          "base_uri": "https://localhost:8080/"
        },
        "id": "BYJnlcJbkdw7",
        "outputId": "f9d8a9da-187d-416a-9348-e8fb3db05bdd"
      },
      "execution_count": null,
      "outputs": [
        {
          "output_type": "stream",
          "name": "stdout",
          "text": [
            "x :  10\n",
            "y :  50\n"
          ]
        }
      ]
    },
    {
      "cell_type": "markdown",
      "source": [
        "Keyword Arguments"
      ],
      "metadata": {
        "id": "u3y9f1_0k-_w"
      }
    },
    {
      "cell_type": "code",
      "source": [
        "def student(fname, lname):\n",
        "  print(fname, lname)\n",
        "\n",
        "student(fname = \"Priya\", lname=\"Singh\")\n",
        "student(lname=\"Yadav\", fname=\"Sneha\")"
      ],
      "metadata": {
        "colab": {
          "base_uri": "https://localhost:8080/"
        },
        "id": "acWZH8gWlDqs",
        "outputId": "8583e01d-a7f9-420c-d666-3709df3b4613"
      },
      "execution_count": null,
      "outputs": [
        {
          "output_type": "stream",
          "name": "stdout",
          "text": [
            "Priya Singh\n",
            "Sneha Yadav\n"
          ]
        }
      ]
    },
    {
      "cell_type": "markdown",
      "source": [
        "Positional Arguments"
      ],
      "metadata": {
        "id": "0OgMkCE6llDZ"
      }
    },
    {
      "cell_type": "code",
      "source": [
        "def nameAge(name, age):\n",
        "  print(\"Hi, I am \", name)\n",
        "  print(\"My age is \", age)\n",
        "\n",
        "print(\"case-1:\")\n",
        "nameAge(\"priya\", 20)\n",
        "\n",
        "print(\"\\ncase-2:\")\n",
        "nameAge(20, \"priya\")"
      ],
      "metadata": {
        "colab": {
          "base_uri": "https://localhost:8080/"
        },
        "id": "Z9BsVG54lnEF",
        "outputId": "0c9ae40c-d362-4ed8-a452-5d04a53163be"
      },
      "execution_count": null,
      "outputs": [
        {
          "output_type": "stream",
          "name": "stdout",
          "text": [
            "case-1:\n",
            "Hi, I am  priya\n",
            "My age is  20\n",
            "\n",
            "case-2:\n",
            "Hi, I am  20\n",
            "My age is  priya\n"
          ]
        }
      ]
    },
    {
      "cell_type": "markdown",
      "source": [
        "Arbitrary Keyword  Arguments"
      ],
      "metadata": {
        "id": "s757_ikVmO2v"
      }
    },
    {
      "cell_type": "markdown",
      "source": [
        "*  *args in Python (Non-Keyword Arguments)\n",
        "*  **kwargs in Python (Keyword Arguments)"
      ],
      "metadata": {
        "id": "o9qcLTc9makf"
      }
    },
    {
      "cell_type": "code",
      "source": [
        "def myFun(*argv):\n",
        "  for arg in argv:\n",
        "    print(arg)\n",
        "\n",
        "myFun('Hello', 'welcome', 'to', 'my profile')"
      ],
      "metadata": {
        "colab": {
          "base_uri": "https://localhost:8080/"
        },
        "id": "bQaVcpf9mP7m",
        "outputId": "d6383127-8365-4480-ea39-d83e97790b72"
      },
      "execution_count": null,
      "outputs": [
        {
          "output_type": "stream",
          "name": "stdout",
          "text": [
            "Hello\n",
            "welcome\n",
            "to\n",
            "my profile\n"
          ]
        }
      ]
    },
    {
      "cell_type": "code",
      "source": [
        "def myFun(**kwargs):\n",
        "    for key, value in kwargs.items():\n",
        "        print(\"%s == %s\" % (key, value))\n",
        "\n",
        "\n",
        "myFun(first='Geeks', mid='for', last='Geeks')"
      ],
      "metadata": {
        "colab": {
          "base_uri": "https://localhost:8080/"
        },
        "id": "BB_ad_64m5m9",
        "outputId": "64bc0cd2-4642-40cc-c600-81f3cfa97b66"
      },
      "execution_count": null,
      "outputs": [
        {
          "output_type": "stream",
          "name": "stdout",
          "text": [
            "first == Geeks\n",
            "mid == for\n",
            "last == Geeks\n"
          ]
        }
      ]
    },
    {
      "cell_type": "markdown",
      "source": [
        "# **Docstring**"
      ],
      "metadata": {
        "id": "sHpJKHXrnCAM"
      }
    },
    {
      "cell_type": "markdown",
      "source": [
        "The first string after the function is called the Document string or Docstring in short. This is used to describe the functionality of the function."
      ],
      "metadata": {
        "id": "F_WNuH4GDqEu"
      }
    },
    {
      "cell_type": "code",
      "source": [
        "def evenOdd(x):\n",
        "    \"\"\"Function to check if the number is even or odd\"\"\"\n",
        "\n",
        "    if (x % 2 == 0):\n",
        "        print(\"even\")\n",
        "    else:\n",
        "        print(\"odd\")\n",
        "\n",
        "\n",
        "print(evenOdd.__doc__)"
      ],
      "metadata": {
        "id": "Z6Vb5mNPnAwj",
        "colab": {
          "base_uri": "https://localhost:8080/"
        },
        "outputId": "65d686c1-0431-401c-a586-0e750661d5c4"
      },
      "execution_count": null,
      "outputs": [
        {
          "output_type": "stream",
          "name": "stdout",
          "text": [
            "Function to check if the number is even or odd\n"
          ]
        }
      ]
    },
    {
      "cell_type": "markdown",
      "source": [
        "**Python Function within Functions**"
      ],
      "metadata": {
        "id": "7t0QByw9D5Cl"
      }
    },
    {
      "cell_type": "code",
      "source": [
        "def f1():\n",
        "  s = 'I love myself'\n",
        "  def f2():\n",
        "    print(s)\n",
        "\n",
        "  f2()\n",
        "f1()"
      ],
      "metadata": {
        "id": "F1k5x6j2D_kB",
        "colab": {
          "base_uri": "https://localhost:8080/"
        },
        "outputId": "7ff907d6-77b7-4a37-de7a-bf87b5f9dead"
      },
      "execution_count": null,
      "outputs": [
        {
          "output_type": "stream",
          "name": "stdout",
          "text": [
            "I love myself\n"
          ]
        }
      ]
    },
    {
      "cell_type": "markdown",
      "source": [
        "# **Anonymous Functions in Python**"
      ],
      "metadata": {
        "id": "JVyYU9CfU9qY"
      }
    },
    {
      "cell_type": "code",
      "source": [
        "def cube(x): return x*x*x\n",
        "\n",
        "cube_l = lambda x : x*x*x\n",
        "\n",
        "print(cube(7))\n",
        "print(cube_l(7))"
      ],
      "metadata": {
        "colab": {
          "base_uri": "https://localhost:8080/"
        },
        "id": "6S-_JkeUVCol",
        "outputId": "a54cd16f-799a-45d3-8c08-eaba0f184eac"
      },
      "execution_count": null,
      "outputs": [
        {
          "output_type": "stream",
          "name": "stdout",
          "text": [
            "343\n",
            "343\n"
          ]
        }
      ]
    },
    {
      "cell_type": "markdown",
      "source": [
        "# Pass by Reference and Pass by Value"
      ],
      "metadata": {
        "id": "3bCKfjmGaFL1"
      }
    },
    {
      "cell_type": "code",
      "source": [
        "def my_fun(x):\n",
        "  x[0] =20\n",
        "\n",
        "lst = [10, 11, 12, 13, 14, 15]\n",
        "my_fun(lst)\n",
        "print(lst)"
      ],
      "metadata": {
        "colab": {
          "base_uri": "https://localhost:8080/"
        },
        "id": "orStn8kfaIKh",
        "outputId": "b01ca431-a5ba-4910-8cf2-7e1c5f4304c4"
      },
      "execution_count": null,
      "outputs": [
        {
          "output_type": "stream",
          "name": "stdout",
          "text": [
            "[20, 11, 12, 13, 14, 15]\n"
          ]
        }
      ]
    },
    {
      "cell_type": "code",
      "source": [
        "def myFun(x):\n",
        "    x = [20, 30, 40]\n",
        "\n",
        "\n",
        "lst = [10, 11, 12, 13, 14, 15]\n",
        "myFun(lst)\n",
        "print(lst)"
      ],
      "metadata": {
        "colab": {
          "base_uri": "https://localhost:8080/"
        },
        "id": "lC9UC3JXaiWW",
        "outputId": "2eedd061-022b-47dc-c868-826bd67aaf4b"
      },
      "execution_count": null,
      "outputs": [
        {
          "output_type": "stream",
          "name": "stdout",
          "text": [
            "[10, 11, 12, 13, 14, 15]\n"
          ]
        }
      ]
    },
    {
      "cell_type": "markdown",
      "source": [
        "# **Recursive Functions in Python**"
      ],
      "metadata": {
        "id": "p1gNQJrsapb2"
      }
    },
    {
      "cell_type": "code",
      "source": [
        "def factorial(n):\n",
        "  if n==0:\n",
        "    return 1\n",
        "  else:\n",
        "    return n*factorial(n-1)\n",
        "\n",
        "print(factorial(5))"
      ],
      "metadata": {
        "colab": {
          "base_uri": "https://localhost:8080/"
        },
        "id": "Rv2c2FFKarFY",
        "outputId": "2477ce1f-2646-450d-a4ff-70675f4cab40"
      },
      "execution_count": null,
      "outputs": [
        {
          "output_type": "stream",
          "name": "stdout",
          "text": [
            "120\n"
          ]
        }
      ]
    }
  ]
}