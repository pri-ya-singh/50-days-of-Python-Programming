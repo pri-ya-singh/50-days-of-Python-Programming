{
  "nbformat": 4,
  "nbformat_minor": 0,
  "metadata": {
    "colab": {
      "provenance": []
    },
    "kernelspec": {
      "name": "python3",
      "display_name": "Python 3"
    },
    "language_info": {
      "name": "python"
    }
  },
  "cells": [
    {
      "cell_type": "markdown",
      "source": [
        "# **Conditional Statements in Python**"
      ],
      "metadata": {
        "id": "FPo1ZLe0nZEN"
      }
    },
    {
      "cell_type": "markdown",
      "source": [
        "Conditional statements in Python are used to execute certain blocks of code based on specific conditions."
      ],
      "metadata": {
        "id": "i-bw09Z4nixF"
      }
    },
    {
      "cell_type": "markdown",
      "source": [
        "**If Conditional Statement in Python**"
      ],
      "metadata": {
        "id": "wQK4Zy7JnpP2"
      }
    },
    {
      "cell_type": "code",
      "source": [
        "age = 20\n",
        "if age >= 18:\n",
        "  print(\"Eligible to vote.\")"
      ],
      "metadata": {
        "colab": {
          "base_uri": "https://localhost:8080/"
        },
        "id": "bQyW8bvfnc6q",
        "outputId": "d5da602c-a48d-4a2a-946f-52d7ccd4e76b"
      },
      "execution_count": 1,
      "outputs": [
        {
          "output_type": "stream",
          "name": "stdout",
          "text": [
            "Eligible to vote.\n"
          ]
        }
      ]
    },
    {
      "cell_type": "markdown",
      "source": [
        "Short Hand if"
      ],
      "metadata": {
        "id": "y0mNdi9Bn3-x"
      }
    },
    {
      "cell_type": "code",
      "source": [
        "age = 19\n",
        "if age>18 : print(\"Eligible for vote.\")"
      ],
      "metadata": {
        "colab": {
          "base_uri": "https://localhost:8080/"
        },
        "id": "DlamHw6an4y9",
        "outputId": "0e2385d5-97b6-4f59-e987-bef52f056053"
      },
      "execution_count": 2,
      "outputs": [
        {
          "output_type": "stream",
          "name": "stdout",
          "text": [
            "Eligible for vote.\n"
          ]
        }
      ]
    },
    {
      "cell_type": "markdown",
      "source": [
        "**If else Conditional Statements in Python**"
      ],
      "metadata": {
        "id": "S4lKoNHuoDHj"
      }
    },
    {
      "cell_type": "code",
      "source": [
        "age = 10\n",
        "\n",
        "if age<=12 :\n",
        "  print(\"Travel for free.\")\n",
        "else:\n",
        "  print(\"Pay for ticket.\")"
      ],
      "metadata": {
        "colab": {
          "base_uri": "https://localhost:8080/"
        },
        "id": "60AVahvkoFj9",
        "outputId": "829d7c66-f683-45d9-b3b7-3b5516cb6403"
      },
      "execution_count": 3,
      "outputs": [
        {
          "output_type": "stream",
          "name": "stdout",
          "text": [
            "Travel for free.\n"
          ]
        }
      ]
    },
    {
      "cell_type": "markdown",
      "source": [
        "Short Hand if-else"
      ],
      "metadata": {
        "id": "calLFtVmoUu7"
      }
    },
    {
      "cell_type": "code",
      "source": [
        "marks = 45\n",
        "res = \"Pass\" if marks >=40 else \"Fail\"\n",
        "\n",
        "print(f\"Result: {res}\")"
      ],
      "metadata": {
        "colab": {
          "base_uri": "https://localhost:8080/"
        },
        "id": "aQFbQNvSoVUz",
        "outputId": "8d26f6f2-b409-4231-d035-520f628fc3d1"
      },
      "execution_count": 4,
      "outputs": [
        {
          "output_type": "stream",
          "name": "stdout",
          "text": [
            "Result: Pass\n"
          ]
        }
      ]
    },
    {
      "cell_type": "markdown",
      "source": [
        "**elif Statement**"
      ],
      "metadata": {
        "id": "KyEB1yJyon-V"
      }
    },
    {
      "cell_type": "code",
      "source": [
        "age =25\n",
        "\n",
        "if age<=12:\n",
        "  print(\"Child.\")\n",
        "elif age <=19:\n",
        "  print(\"Teenager.\")\n",
        "elif age<=25:\n",
        "  print(\"Young adult.\")\n",
        "else:\n",
        "  print(\"Adult\")"
      ],
      "metadata": {
        "colab": {
          "base_uri": "https://localhost:8080/"
        },
        "id": "3UktdxKMop9d",
        "outputId": "6e111e86-355b-4b8f-aae0-10b31dcd309e"
      },
      "execution_count": 5,
      "outputs": [
        {
          "output_type": "stream",
          "name": "stdout",
          "text": [
            "Young adult.\n"
          ]
        }
      ]
    },
    {
      "cell_type": "markdown",
      "source": [
        "**Nested if..else Conditional Statements in Python**"
      ],
      "metadata": {
        "id": "uUQfkiQRpEoN"
      }
    },
    {
      "cell_type": "code",
      "source": [
        "age = 70\n",
        "is_member = True\n",
        "\n",
        "if age >= 60:\n",
        "  if is_member :\n",
        "    print(\"30% senior discount.\")\n",
        "  else:\n",
        "    print(\"20% senior discount.\")\n",
        "else:\n",
        "  print(\"Not eligible for a senior discount.\")"
      ],
      "metadata": {
        "colab": {
          "base_uri": "https://localhost:8080/"
        },
        "id": "ZVP2Y4czpG0u",
        "outputId": "b7677891-487e-42c8-f054-c90feb9a9d1d"
      },
      "execution_count": 6,
      "outputs": [
        {
          "output_type": "stream",
          "name": "stdout",
          "text": [
            "30% senior discount.\n"
          ]
        }
      ]
    },
    {
      "cell_type": "markdown",
      "source": [
        "**Ternary Conditional Statement in Python**"
      ],
      "metadata": {
        "id": "uhRdFOiaprL-"
      }
    },
    {
      "cell_type": "code",
      "source": [
        "age = 20\n",
        "s = \"Adult\" if age >= 18 else \"Minor\"\n",
        "print(s)"
      ],
      "metadata": {
        "colab": {
          "base_uri": "https://localhost:8080/"
        },
        "id": "z0xTGuqnptBk",
        "outputId": "8217e91f-fd42-4aec-b54c-f23062711dc5"
      },
      "execution_count": 7,
      "outputs": [
        {
          "output_type": "stream",
          "name": "stdout",
          "text": [
            "Adult\n"
          ]
        }
      ]
    },
    {
      "cell_type": "markdown",
      "source": [
        "**Match-Case Statement in Python**"
      ],
      "metadata": {
        "id": "Vu6aB3LlqIur"
      }
    },
    {
      "cell_type": "markdown",
      "source": [
        "match-case statement is Python's version of a switch-case found in other languages. It allows us to match a variable's value against a set of patterns."
      ],
      "metadata": {
        "id": "S602Jvm6qKSK"
      }
    },
    {
      "cell_type": "code",
      "source": [
        "number = 2\n",
        "\n",
        "match number:\n",
        "  case 1:\n",
        "    print(\"One\")\n",
        "  case 2 | 3:\n",
        "    print(\"Two or Three\")\n",
        "  case _:\n",
        "    print(\"Other number\")"
      ],
      "metadata": {
        "colab": {
          "base_uri": "https://localhost:8080/"
        },
        "id": "T0DwrQgPqUpv",
        "outputId": "de7eddbc-a340-42f0-b482-0c510abd03eb"
      },
      "execution_count": 8,
      "outputs": [
        {
          "output_type": "stream",
          "name": "stdout",
          "text": [
            "Two or Three\n"
          ]
        }
      ]
    }
  ]
}