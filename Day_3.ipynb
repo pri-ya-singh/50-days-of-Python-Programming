{
  "nbformat": 4,
  "nbformat_minor": 0,
  "metadata": {
    "colab": {
      "provenance": []
    },
    "kernelspec": {
      "name": "python3",
      "display_name": "Python 3"
    },
    "language_info": {
      "name": "python"
    }
  },
  "cells": [
    {
      "cell_type": "markdown",
      "source": [
        "# **Python Operators**"
      ],
      "metadata": {
        "id": "Lgrv9OEU6KVd"
      }
    },
    {
      "cell_type": "markdown",
      "source": [
        "# Types of Operators in Python"
      ],
      "metadata": {
        "id": "h5oxVs6W6OR-"
      }
    },
    {
      "cell_type": "markdown",
      "source": [
        "**1. Arithmetic Operators in Python**"
      ],
      "metadata": {
        "id": "p2EZd_bV6ZgF"
      }
    },
    {
      "cell_type": "code",
      "source": [
        "a = 15\n",
        "b = 20\n",
        "\n",
        "# Addition\n",
        "print(\"Addition:\", a + b)\n",
        "\n",
        "# Subtraction\n",
        "print(\"Subtraction:\", a - b)\n",
        "\n",
        "# Multiplication\n",
        "print(\"Multiplication:\", a * b)\n",
        "\n",
        "# Division\n",
        "print(\"Division:\", a / b)\n",
        "\n",
        "# Floor Division\n",
        "print(\"Floor Division:\", a // b)\n",
        "\n",
        "# Modulus\n",
        "print(\"Modulus:\", a % b)\n",
        "\n",
        "# Exponentiation\n",
        "print(\"Exponentiation:\", a ** b)"
      ],
      "metadata": {
        "colab": {
          "base_uri": "https://localhost:8080/"
        },
        "id": "uOo2mjc56dr6",
        "outputId": "7578d30f-d8fd-40c9-bb03-c0b33d5b8eff"
      },
      "execution_count": 2,
      "outputs": [
        {
          "output_type": "stream",
          "name": "stdout",
          "text": [
            "Addition: 35\n",
            "Subtraction: -5\n",
            "Multiplication: 300\n",
            "Division: 0.75\n",
            "Floor Division: 0\n",
            "Modulus: 15\n",
            "Exponentiation: 332525673007965087890625\n"
          ]
        }
      ]
    },
    {
      "cell_type": "markdown",
      "source": [
        "**2. Comparison of Python Operators**"
      ],
      "metadata": {
        "id": "71huZMMp64i1"
      }
    },
    {
      "cell_type": "code",
      "source": [
        "a = 13\n",
        "b = 33\n",
        "\n",
        "print(a>b)\n",
        "print(a<b)\n",
        "print(a==b)\n",
        "print(a!=b)\n",
        "print(a>=b)\n",
        "print(a<=b)"
      ],
      "metadata": {
        "colab": {
          "base_uri": "https://localhost:8080/"
        },
        "id": "DRxGJD8c6_1-",
        "outputId": "94a7da99-3669-4d27-ddea-16068d727c21"
      },
      "execution_count": 3,
      "outputs": [
        {
          "output_type": "stream",
          "name": "stdout",
          "text": [
            "False\n",
            "True\n",
            "False\n",
            "True\n",
            "False\n",
            "True\n"
          ]
        }
      ]
    },
    {
      "cell_type": "markdown",
      "source": [
        "**3. Logical Operators in Python**"
      ],
      "metadata": {
        "id": "ukdCbRs97S3o"
      }
    },
    {
      "cell_type": "code",
      "source": [
        "a = True\n",
        "b= False\n",
        "\n",
        "print(a and b)\n",
        "print(a or b)\n",
        "print(not a)"
      ],
      "metadata": {
        "colab": {
          "base_uri": "https://localhost:8080/"
        },
        "id": "iY4s-j-D7Xyg",
        "outputId": "db1c0d58-2e4f-4529-caf4-204509421ec1"
      },
      "execution_count": 4,
      "outputs": [
        {
          "output_type": "stream",
          "name": "stdout",
          "text": [
            "False\n",
            "True\n",
            "False\n"
          ]
        }
      ]
    },
    {
      "cell_type": "markdown",
      "source": [
        "**4. Bitwise Operators in Python**"
      ],
      "metadata": {
        "id": "SBqb1UxK7n-i"
      }
    },
    {
      "cell_type": "code",
      "source": [
        "a = 10\n",
        "b = 4\n",
        "\n",
        "print(a&b)\n",
        "print(a|b)\n",
        "print(~a)\n",
        "print(a^b)\n",
        "print(a >> 2)\n",
        "print(a << 2)"
      ],
      "metadata": {
        "colab": {
          "base_uri": "https://localhost:8080/"
        },
        "id": "1UVLxquK7tUB",
        "outputId": "88d3ea5d-6e12-4d15-9c04-587efbc901f9"
      },
      "execution_count": 5,
      "outputs": [
        {
          "output_type": "stream",
          "name": "stdout",
          "text": [
            "0\n",
            "14\n",
            "-11\n",
            "14\n",
            "2\n",
            "40\n"
          ]
        }
      ]
    },
    {
      "cell_type": "markdown",
      "source": [
        "**5. Assignment Operators in Python**"
      ],
      "metadata": {
        "id": "g5q-TAc88IYg"
      }
    },
    {
      "cell_type": "code",
      "source": [
        "a = 10\n",
        "\n",
        "b = a\n",
        "print(b)\n",
        "\n",
        "b+=a\n",
        "print(b)\n",
        "\n",
        "b -=a\n",
        "print(b)\n",
        "\n",
        "b*=a\n",
        "print(b)\n",
        "\n",
        "b<<=a\n",
        "print(b)"
      ],
      "metadata": {
        "colab": {
          "base_uri": "https://localhost:8080/"
        },
        "id": "-MAJCgmM8LqD",
        "outputId": "6e663ba3-2e3b-48c7-c3ec-91f8af52f8fe"
      },
      "execution_count": 6,
      "outputs": [
        {
          "output_type": "stream",
          "name": "stdout",
          "text": [
            "10\n",
            "20\n",
            "10\n",
            "100\n",
            "102400\n"
          ]
        }
      ]
    },
    {
      "cell_type": "markdown",
      "source": [
        "**6. Identity Operators in Python**"
      ],
      "metadata": {
        "id": "0SkLN8zB8mOv"
      }
    },
    {
      "cell_type": "code",
      "source": [
        "a = 10\n",
        "b = 20\n",
        "c = a\n",
        "\n",
        "print(a is not b)\n",
        "print(a is c)"
      ],
      "metadata": {
        "colab": {
          "base_uri": "https://localhost:8080/"
        },
        "id": "kTWdSaTN8pw4",
        "outputId": "abaf52b9-67b2-4a4f-f198-cee1db55bbb5"
      },
      "execution_count": 7,
      "outputs": [
        {
          "output_type": "stream",
          "name": "stdout",
          "text": [
            "True\n",
            "True\n"
          ]
        }
      ]
    },
    {
      "cell_type": "markdown",
      "source": [
        "**7. Membership Operators in Python**"
      ],
      "metadata": {
        "id": "D1HZXTsp81HF"
      }
    },
    {
      "cell_type": "code",
      "source": [
        "x = 24\n",
        "y = 20\n",
        "\n",
        "list = [10, 20, 30, 40, 50]\n",
        "\n",
        "if(x not in list):\n",
        "  print(\"x is not present in given list\")\n",
        "else:\n",
        "  print(\"x is present in given list\")\n",
        "\n",
        "if(y not in list):\n",
        "  print(\"y is not present in given list\")\n",
        "else:\n",
        "  print(\"y is present in given list\")"
      ],
      "metadata": {
        "colab": {
          "base_uri": "https://localhost:8080/"
        },
        "id": "Jw9F2PFd8486",
        "outputId": "5bd6b3d7-266e-4ada-9320-f5bcd099d55e"
      },
      "execution_count": 9,
      "outputs": [
        {
          "output_type": "stream",
          "name": "stdout",
          "text": [
            "x is not present in given list\n",
            "y is present in given list\n"
          ]
        }
      ]
    },
    {
      "cell_type": "markdown",
      "source": [
        "**8. Ternary Operator in Python**"
      ],
      "metadata": {
        "id": "ViGOB-ZF9kq7"
      }
    },
    {
      "cell_type": "code",
      "source": [
        "a, b = 10, 20\n",
        "min = a if a<b else b\n",
        "\n",
        "print(min)"
      ],
      "metadata": {
        "colab": {
          "base_uri": "https://localhost:8080/"
        },
        "id": "6X1mymZM9pDc",
        "outputId": "7f48c41e-8251-459a-cf11-c4424bff3853"
      },
      "execution_count": 10,
      "outputs": [
        {
          "output_type": "stream",
          "name": "stdout",
          "text": [
            "10\n"
          ]
        }
      ]
    },
    {
      "cell_type": "markdown",
      "source": [
        "# **Precedence and Associativity of Operators in Python**"
      ],
      "metadata": {
        "id": "iJ5QPAZg91-s"
      }
    },
    {
      "cell_type": "markdown",
      "source": [
        "**Operator Precedence in Python**"
      ],
      "metadata": {
        "id": "NveEuDjBIt13"
      }
    },
    {
      "cell_type": "code",
      "source": [
        "exp = 10+20*30\n",
        "print(exp)"
      ],
      "metadata": {
        "colab": {
          "base_uri": "https://localhost:8080/"
        },
        "id": "5iIAuwH8CMqk",
        "outputId": "15f06078-8df9-4800-e692-302afc84c603"
      },
      "execution_count": 11,
      "outputs": [
        {
          "output_type": "stream",
          "name": "stdout",
          "text": [
            "610\n"
          ]
        }
      ]
    },
    {
      "cell_type": "code",
      "source": [
        "name = 'priya'\n",
        "age = 1\n",
        "\n",
        "if name == 'priya' or name=='sita' and age>=2:\n",
        "  print(\"Hello welcome!!\")\n",
        "else:\n",
        "  print(\"Goodbye!!\")"
      ],
      "metadata": {
        "colab": {
          "base_uri": "https://localhost:8080/"
        },
        "id": "_rSfTW5LIMbV",
        "outputId": "d4593e5a-07f4-47e9-f2ac-42db6f0c85f2"
      },
      "execution_count": 12,
      "outputs": [
        {
          "output_type": "stream",
          "name": "stdout",
          "text": [
            "Hello welcome!!\n"
          ]
        }
      ]
    },
    {
      "cell_type": "markdown",
      "source": [
        "**Operator Associativity in Python**"
      ],
      "metadata": {
        "id": "xQFfZKThIsCs"
      }
    },
    {
      "cell_type": "code",
      "source": [
        "print(100 / 10 * 10)\n",
        "print(5 - 2 + 3)\n",
        "print(5 - (2 + 3))\n",
        "print(2 ** 3 ** 2)"
      ],
      "metadata": {
        "colab": {
          "base_uri": "https://localhost:8080/"
        },
        "id": "z8mf8ZsLIxcg",
        "outputId": "cad32f9e-2ac5-442a-dc59-f923d9f623f5"
      },
      "execution_count": 13,
      "outputs": [
        {
          "output_type": "stream",
          "name": "stdout",
          "text": [
            "100.0\n",
            "6\n",
            "0\n",
            "512\n"
          ]
        }
      ]
    }
  ]
}