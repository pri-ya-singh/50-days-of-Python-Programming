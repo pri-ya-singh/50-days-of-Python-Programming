{
  "nbformat": 4,
  "nbformat_minor": 0,
  "metadata": {
    "colab": {
      "provenance": []
    },
    "kernelspec": {
      "name": "python3",
      "display_name": "Python 3"
    },
    "language_info": {
      "name": "python"
    }
  },
  "cells": [
    {
      "cell_type": "markdown",
      "source": [
        "# **Loops in Python**"
      ],
      "metadata": {
        "id": "M1ZSjbK8vhqF"
      }
    },
    {
      "cell_type": "markdown",
      "source": [
        "# **For Loop in Python :**"
      ],
      "metadata": {
        "id": "cfwpTBRYvnaV"
      }
    },
    {
      "cell_type": "markdown",
      "source": [
        "For loops is used to iterate over a sequence such as a list, tuple, string or range. It allow to execute a block of code repeatedly, once for each item in the sequence."
      ],
      "metadata": {
        "id": "YgkhC6u-yGz0"
      }
    },
    {
      "cell_type": "code",
      "source": [
        "n=4\n",
        "for i in range(0,n):\n",
        "  print(i)"
      ],
      "metadata": {
        "colab": {
          "base_uri": "https://localhost:8080/"
        },
        "id": "ES-wppmRvmrU",
        "outputId": "4de2e8cd-59e0-42b1-cbdb-99a8aae597d8"
      },
      "execution_count": null,
      "outputs": [
        {
          "output_type": "stream",
          "name": "stdout",
          "text": [
            "0\n",
            "1\n",
            "2\n",
            "3\n"
          ]
        }
      ]
    },
    {
      "cell_type": "code",
      "source": [
        "li = [\"Priya\", \"Sneha\", \"Priha\"]\n",
        "for i in li:\n",
        "  print(i)"
      ],
      "metadata": {
        "colab": {
          "base_uri": "https://localhost:8080/"
        },
        "id": "JretnvItwNF9",
        "outputId": "516ead6e-1019-4146-a028-eea3082e4b52"
      },
      "execution_count": null,
      "outputs": [
        {
          "output_type": "stream",
          "name": "stdout",
          "text": [
            "Priya\n",
            "Sneha\n",
            "Priha\n"
          ]
        }
      ]
    },
    {
      "cell_type": "code",
      "source": [
        "tup = (\"Priya\", \"Sneha\", \"Priha\")\n",
        "for i in tup:\n",
        "  print(i)"
      ],
      "metadata": {
        "colab": {
          "base_uri": "https://localhost:8080/"
        },
        "id": "I2L8FM6mwYLr",
        "outputId": "b5806334-6950-4d6d-9574-d9c1c7aa993d"
      },
      "execution_count": null,
      "outputs": [
        {
          "output_type": "stream",
          "name": "stdout",
          "text": [
            "Priya\n",
            "Sneha\n",
            "Priha\n"
          ]
        }
      ]
    },
    {
      "cell_type": "code",
      "source": [
        "s = \"Priya\"\n",
        "for i in s:\n",
        "  print(i)"
      ],
      "metadata": {
        "colab": {
          "base_uri": "https://localhost:8080/"
        },
        "id": "20V1iZeUwgjH",
        "outputId": "37ce8b62-9964-4be8-84bd-84cfcde068af"
      },
      "execution_count": null,
      "outputs": [
        {
          "output_type": "stream",
          "name": "stdout",
          "text": [
            "P\n",
            "r\n",
            "i\n",
            "y\n",
            "a\n"
          ]
        }
      ]
    },
    {
      "cell_type": "code",
      "source": [
        "d = dict({'a' : 123, 'b':345})\n",
        "for i in d:\n",
        "  print(\"%s %d\" %(i, d[i]))"
      ],
      "metadata": {
        "colab": {
          "base_uri": "https://localhost:8080/"
        },
        "id": "GkibkmlCwm1A",
        "outputId": "a06eda5c-97f3-4d3c-b854-3e2c89990a30"
      },
      "execution_count": null,
      "outputs": [
        {
          "output_type": "stream",
          "name": "stdout",
          "text": [
            "a 123\n",
            "b 345\n"
          ]
        }
      ]
    },
    {
      "cell_type": "code",
      "source": [
        "set1 = {1, 2, 3, 4, 5, 6, 7}\n",
        "for i in set1:\n",
        "  print(i)"
      ],
      "metadata": {
        "colab": {
          "base_uri": "https://localhost:8080/"
        },
        "id": "3QT-UpPQw62t",
        "outputId": "4f8a5d46-5463-4f43-bb8a-d87d96c936f9"
      },
      "execution_count": null,
      "outputs": [
        {
          "output_type": "stream",
          "name": "stdout",
          "text": [
            "1\n",
            "2\n",
            "3\n",
            "4\n",
            "5\n",
            "6\n",
            "7\n"
          ]
        }
      ]
    },
    {
      "cell_type": "markdown",
      "source": [
        "Iterating by the Index of Sequences"
      ],
      "metadata": {
        "id": "9tPZ9EP8xVM3"
      }
    },
    {
      "cell_type": "code",
      "source": [
        "li = [\"Priya\", \"Sneha\", \"Priha\"]\n",
        "for index in range(len(li)):\n",
        "  print(li[index])"
      ],
      "metadata": {
        "colab": {
          "base_uri": "https://localhost:8080/"
        },
        "id": "Pn-Y84yhxUaS",
        "outputId": "b960ad78-17c7-4fae-ecf2-f86e70112133"
      },
      "execution_count": null,
      "outputs": [
        {
          "output_type": "stream",
          "name": "stdout",
          "text": [
            "Priya\n",
            "Sneha\n",
            "Priha\n"
          ]
        }
      ]
    },
    {
      "cell_type": "markdown",
      "source": [
        "Using else Statement with for Loop in Python"
      ],
      "metadata": {
        "id": "Hufg2-uhxnUM"
      }
    },
    {
      "cell_type": "code",
      "source": [
        "li = [\"Priya\", \"Sneha\", \"Priha\"]\n",
        "for index in range(len(li)):\n",
        "  print(li[index])\n",
        "else:\n",
        "  print(\"Inside else block\")"
      ],
      "metadata": {
        "colab": {
          "base_uri": "https://localhost:8080/"
        },
        "id": "9s-tu1l2xoOH",
        "outputId": "6b6485e1-a19f-49a7-8e9b-8e4ef335805f"
      },
      "execution_count": null,
      "outputs": [
        {
          "output_type": "stream",
          "name": "stdout",
          "text": [
            "Priya\n",
            "Sneha\n",
            "Priha\n",
            "Inside else block\n"
          ]
        }
      ]
    },
    {
      "cell_type": "markdown",
      "source": [
        "# **While Loop in Python**"
      ],
      "metadata": {
        "id": "zVEdH1q8x9-H"
      }
    },
    {
      "cell_type": "markdown",
      "source": [
        "a while loop is used to execute a block of statements repeatedly until a given condition is satisfied"
      ],
      "metadata": {
        "id": "EBzIQux0yNPp"
      }
    },
    {
      "cell_type": "code",
      "source": [
        "cnt =0\n",
        "while(cnt<3):\n",
        "    cnt = cnt + 1\n",
        "    print(\"Hello loop\")"
      ],
      "metadata": {
        "id": "tjrGgHBDyAnz",
        "colab": {
          "base_uri": "https://localhost:8080/"
        },
        "outputId": "710cdee1-ecdb-4ab4-a1b8-33c6adcb418e"
      },
      "execution_count": 3,
      "outputs": [
        {
          "output_type": "stream",
          "name": "stdout",
          "text": [
            "Hello loop\n",
            "Hello loop\n",
            "Hello loop\n"
          ]
        }
      ]
    },
    {
      "cell_type": "markdown",
      "source": [
        "Using else statement with While Loop"
      ],
      "metadata": {
        "id": "X8F30foKf9BP"
      }
    },
    {
      "cell_type": "code",
      "source": [
        "cnt =0\n",
        "while(cnt<5):\n",
        "  cnt = cnt +1\n",
        "  print(\"Hello while loop\")\n",
        "else:\n",
        "  print(\"Inside else block\")"
      ],
      "metadata": {
        "colab": {
          "base_uri": "https://localhost:8080/"
        },
        "id": "99o-DErMgAOT",
        "outputId": "48132c77-10fa-4eec-9916-2bdd3ee1ab81"
      },
      "execution_count": 4,
      "outputs": [
        {
          "output_type": "stream",
          "name": "stdout",
          "text": [
            "Hello while loop\n",
            "Hello while loop\n",
            "Hello while loop\n",
            "Hello while loop\n",
            "Hello while loop\n",
            "Inside else block\n"
          ]
        }
      ]
    },
    {
      "cell_type": "markdown",
      "source": [
        "Nested Loops in Python"
      ],
      "metadata": {
        "id": "VITi5322gjgU"
      }
    },
    {
      "cell_type": "code",
      "source": [
        "from __future__ import print_function\n",
        "for i in range(1,5):\n",
        "  for j in range(i):\n",
        "    print(i, end=' ')\n",
        "  print()"
      ],
      "metadata": {
        "colab": {
          "base_uri": "https://localhost:8080/"
        },
        "id": "jlgxgiMmgkWb",
        "outputId": "d447c94c-803f-4d42-87c2-e607ac496497"
      },
      "execution_count": 5,
      "outputs": [
        {
          "output_type": "stream",
          "name": "stdout",
          "text": [
            "1 \n",
            "2 2 \n",
            "3 3 3 \n",
            "4 4 4 4 \n"
          ]
        }
      ]
    },
    {
      "cell_type": "markdown",
      "source": [
        "# **Loop Control Statements**"
      ],
      "metadata": {
        "id": "LhwoKBpRhO0Z"
      }
    },
    {
      "cell_type": "markdown",
      "source": [
        "**Continue Statement**"
      ],
      "metadata": {
        "id": "pIn8eVRihQV_"
      }
    },
    {
      "cell_type": "code",
      "source": [
        "for l in \"priyasingh\":\n",
        "  if l=='i' or l=='s':\n",
        "    continue\n",
        "  print('Current Letter :', l)"
      ],
      "metadata": {
        "colab": {
          "base_uri": "https://localhost:8080/"
        },
        "id": "S4LkswyrhSrA",
        "outputId": "ecbb2961-cb44-49db-d746-ae000e40d68a"
      },
      "execution_count": 6,
      "outputs": [
        {
          "output_type": "stream",
          "name": "stdout",
          "text": [
            "Current Letter : p\n",
            "Current Letter : r\n",
            "Current Letter : y\n",
            "Current Letter : a\n",
            "Current Letter : n\n",
            "Current Letter : g\n",
            "Current Letter : h\n"
          ]
        }
      ]
    },
    {
      "cell_type": "markdown",
      "source": [
        "**Break Statement**"
      ],
      "metadata": {
        "id": "o3TLyJ-ThofY"
      }
    },
    {
      "cell_type": "code",
      "source": [
        "for l in 'priyasingh':\n",
        "  if l=='i' or l=='s':\n",
        "    break\n",
        "print('Current Letter :', l)"
      ],
      "metadata": {
        "colab": {
          "base_uri": "https://localhost:8080/"
        },
        "id": "xpPK4R4Kht5e",
        "outputId": "92643e54-297f-42d0-fb93-48838dd9655a"
      },
      "execution_count": 9,
      "outputs": [
        {
          "output_type": "stream",
          "name": "stdout",
          "text": [
            "Current Letter : i\n"
          ]
        }
      ]
    },
    {
      "cell_type": "markdown",
      "source": [
        "**Pass Statement**"
      ],
      "metadata": {
        "id": "lwxJ9GLoiDEq"
      }
    },
    {
      "cell_type": "code",
      "source": [
        "for letter in 'priyasingh':\n",
        "  pass\n",
        "print('Last Letter :', letter)"
      ],
      "metadata": {
        "colab": {
          "base_uri": "https://localhost:8080/"
        },
        "id": "NGdnThjPiGNX",
        "outputId": "3386f555-8ce1-49de-c45a-bbd525a1d772"
      },
      "execution_count": 10,
      "outputs": [
        {
          "output_type": "stream",
          "name": "stdout",
          "text": [
            "Last Letter : h\n"
          ]
        }
      ]
    },
    {
      "cell_type": "code",
      "source": [
        "fruits = [\"apple\", \"orange\", \"kiwi\"]\n",
        "\n",
        "for fruit in fruits:\n",
        "\n",
        "    print(fruit)"
      ],
      "metadata": {
        "colab": {
          "base_uri": "https://localhost:8080/"
        },
        "id": "npCfxDBnif-f",
        "outputId": "dea0835a-0d43-4851-ea00-e79715592be4"
      },
      "execution_count": 11,
      "outputs": [
        {
          "output_type": "stream",
          "name": "stdout",
          "text": [
            "apple\n",
            "orange\n",
            "kiwi\n"
          ]
        }
      ]
    }
  ]
}