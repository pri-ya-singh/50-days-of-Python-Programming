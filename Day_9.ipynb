{
  "nbformat": 4,
  "nbformat_minor": 0,
  "metadata": {
    "colab": {
      "provenance": []
    },
    "kernelspec": {
      "name": "python3",
      "display_name": "Python 3"
    },
    "language_info": {
      "name": "python"
    }
  },
  "cells": [
    {
      "cell_type": "markdown",
      "source": [
        "# **Python String**"
      ],
      "metadata": {
        "id": "zz25htGKXFRC"
      }
    },
    {
      "cell_type": "markdown",
      "source": [
        "A string is a sequence of characters. Python treats anything inside quotes as a string. This includes letters, numbers, and symbols. Python has no character data type so single character is a string of length 1."
      ],
      "metadata": {
        "id": "WT3kIgAEXKfX"
      }
    },
    {
      "cell_type": "code",
      "source": [
        "s = \"priya\"\n",
        "print(s[1])\n",
        "s1 = s+s[0]\n",
        "print(s1)"
      ],
      "metadata": {
        "colab": {
          "base_uri": "https://localhost:8080/"
        },
        "id": "fBfp5CinXOyK",
        "outputId": "04a2ccc8-fb57-41dd-d937-4dff32580745"
      },
      "execution_count": 1,
      "outputs": [
        {
          "output_type": "stream",
          "name": "stdout",
          "text": [
            "r\n",
            "priyap\n"
          ]
        }
      ]
    },
    {
      "cell_type": "markdown",
      "source": [
        "Creating a String"
      ],
      "metadata": {
        "id": "2RDm8zkkXxfh"
      }
    },
    {
      "cell_type": "code",
      "source": [
        "s1 = \"Priya\"\n",
        "s2 = \"Singh\"\n",
        "print(s1)\n",
        "print(s2)"
      ],
      "metadata": {
        "colab": {
          "base_uri": "https://localhost:8080/"
        },
        "id": "rzV2NjmPX0Fa",
        "outputId": "7d76b36e-32fa-4c2e-ddc2-c025f307d636"
      },
      "execution_count": 2,
      "outputs": [
        {
          "output_type": "stream",
          "name": "stdout",
          "text": [
            "Priya\n",
            "Singh\n"
          ]
        }
      ]
    },
    {
      "cell_type": "markdown",
      "source": [
        "**Multi-line Strings**"
      ],
      "metadata": {
        "id": "y48uLsXyX8yd"
      }
    },
    {
      "cell_type": "code",
      "source": [
        "s = \"\"\"I am learning\n",
        "python string\"\"\"\n",
        "\n",
        "print(s)"
      ],
      "metadata": {
        "colab": {
          "base_uri": "https://localhost:8080/"
        },
        "id": "iurp4CzMYAy1",
        "outputId": "11a0c6c4-eea1-4e38-e54f-2b5b82b7e2de"
      },
      "execution_count": 3,
      "outputs": [
        {
          "output_type": "stream",
          "name": "stdout",
          "text": [
            "I am learning \n",
            "python string\n"
          ]
        }
      ]
    },
    {
      "cell_type": "markdown",
      "source": [
        "**Accessing characters in Python String**"
      ],
      "metadata": {
        "id": "z5npDxOwYN84"
      }
    },
    {
      "cell_type": "code",
      "source": [
        "s = \"PriyaSingh\"\n",
        "\n",
        "print(s[0])\n",
        "\n",
        "print(s[4])"
      ],
      "metadata": {
        "colab": {
          "base_uri": "https://localhost:8080/"
        },
        "id": "6Il_Eac4YQ2k",
        "outputId": "0cddaad2-18e5-4085-878a-63f39288f524"
      },
      "execution_count": 4,
      "outputs": [
        {
          "output_type": "stream",
          "name": "stdout",
          "text": [
            "P\n",
            "a\n"
          ]
        }
      ]
    },
    {
      "cell_type": "markdown",
      "source": [
        "**Access string with Negative Indexing**"
      ],
      "metadata": {
        "id": "3RRKvB-yhp0B"
      }
    },
    {
      "cell_type": "code",
      "source": [
        "s = \"PriyaSingh\"\n",
        "\n",
        "print(s[-7])\n",
        "\n",
        "print(s[-5])"
      ],
      "metadata": {
        "colab": {
          "base_uri": "https://localhost:8080/"
        },
        "id": "NestHOQOhq6N",
        "outputId": "514fa1d7-b17c-42af-8c7e-8dbdd571d9e5"
      },
      "execution_count": 6,
      "outputs": [
        {
          "output_type": "stream",
          "name": "stdout",
          "text": [
            "y\n",
            "S\n"
          ]
        }
      ]
    },
    {
      "cell_type": "markdown",
      "source": [
        "**String Slicing**"
      ],
      "metadata": {
        "id": "PCQQE8Zkh-AJ"
      }
    },
    {
      "cell_type": "code",
      "source": [
        "s = \"PriyaSingh\"\n",
        "print(s[1:4])\n",
        "\n",
        "print(s[:3])\n",
        "print(s[3:])\n",
        "print(s[::-1])"
      ],
      "metadata": {
        "colab": {
          "base_uri": "https://localhost:8080/"
        },
        "id": "ESAk0lQah_Y_",
        "outputId": "7d39ddd6-1dc0-4dc1-c06a-336ceecd672e"
      },
      "execution_count": 7,
      "outputs": [
        {
          "output_type": "stream",
          "name": "stdout",
          "text": [
            "riy\n",
            "Pri\n",
            "yaSingh\n",
            "hgniSayirP\n"
          ]
        }
      ]
    },
    {
      "cell_type": "markdown",
      "source": [
        "**String Immutability**"
      ],
      "metadata": {
        "id": "-4Poprjaxouo"
      }
    },
    {
      "cell_type": "code",
      "source": [
        "s = \"Python\"\n",
        "s = \"G\" + s[1:]\n",
        "print(s)"
      ],
      "metadata": {
        "colab": {
          "base_uri": "https://localhost:8080/"
        },
        "id": "qsekVrjJxqL4",
        "outputId": "7ebb3858-1209-4c22-cbe5-a26bf6c32418"
      },
      "execution_count": 8,
      "outputs": [
        {
          "output_type": "stream",
          "name": "stdout",
          "text": [
            "Gython\n"
          ]
        }
      ]
    },
    {
      "cell_type": "markdown",
      "source": [
        "**Deleting a String**"
      ],
      "metadata": {
        "id": "YBya5GJUHGfL"
      }
    },
    {
      "cell_type": "code",
      "source": [
        "s = \"Python\"\n",
        "\n",
        "del s"
      ],
      "metadata": {
        "id": "AaFt5zH_HHwX"
      },
      "execution_count": 9,
      "outputs": []
    },
    {
      "cell_type": "markdown",
      "source": [
        "**Updating a String**"
      ],
      "metadata": {
        "id": "Fl09FK8MHMlD"
      }
    },
    {
      "cell_type": "code",
      "source": [
        "s = \"hello geeks\"\n",
        "\n",
        "s1 = \"H\" + s[1:]\n",
        "\n",
        "s2 = s.replace(\"geeks\", \"GeeksforGeeks\")\n",
        "print(s1)\n",
        "print(s2)"
      ],
      "metadata": {
        "colab": {
          "base_uri": "https://localhost:8080/"
        },
        "id": "kf6MQaJjHPF5",
        "outputId": "6bce0aa0-831f-4a8d-df24-63369f5b4348"
      },
      "execution_count": 11,
      "outputs": [
        {
          "output_type": "stream",
          "name": "stdout",
          "text": [
            "Hello geeks\n",
            "hello GeeksforGeeks\n"
          ]
        }
      ]
    },
    {
      "cell_type": "markdown",
      "source": [
        "**Common String Methods**"
      ],
      "metadata": {
        "id": "5ockl4YjHw1o"
      }
    },
    {
      "cell_type": "code",
      "source": [
        "s = \"geeksforgeeks\"\n",
        "print(len(s))"
      ],
      "metadata": {
        "colab": {
          "base_uri": "https://localhost:8080/"
        },
        "id": "dq-1HlMJHyC-",
        "outputId": "90e8a382-047a-4f99-fca7-9628bf47ed6d"
      },
      "execution_count": 12,
      "outputs": [
        {
          "output_type": "stream",
          "name": "stdout",
          "text": [
            "13\n"
          ]
        }
      ]
    },
    {
      "cell_type": "code",
      "source": [
        "s = \"Hello World\"\n",
        "\n",
        "print(s.upper())\n",
        "\n",
        "print(s.lower())"
      ],
      "metadata": {
        "colab": {
          "base_uri": "https://localhost:8080/"
        },
        "id": "IRIQWV6LH7gr",
        "outputId": "76bd213a-13cb-4365-f4ff-51ca327b0b13"
      },
      "execution_count": 13,
      "outputs": [
        {
          "output_type": "stream",
          "name": "stdout",
          "text": [
            "HELLO WORLD\n",
            "hello world\n"
          ]
        }
      ]
    },
    {
      "cell_type": "code",
      "source": [
        "s = \"   Gfg   \"\n",
        "print(s.strip())\n",
        "\n",
        "s = \"Python is fun\"\n",
        "print(s.replace(\"fun\", \"awesome\"))"
      ],
      "metadata": {
        "colab": {
          "base_uri": "https://localhost:8080/"
        },
        "id": "k7P9xMfJH_VK",
        "outputId": "aebb00f1-17c5-4b98-898c-37c4fdd4faec"
      },
      "execution_count": 14,
      "outputs": [
        {
          "output_type": "stream",
          "name": "stdout",
          "text": [
            "Gfg\n",
            "Python is awesome\n"
          ]
        }
      ]
    },
    {
      "cell_type": "markdown",
      "source": [
        "**Concatenating and Repeating Strings**"
      ],
      "metadata": {
        "id": "ruaHRre_IIjR"
      }
    },
    {
      "cell_type": "code",
      "source": [
        "s1 = \"Hello\"\n",
        "s2 = \"World\"\n",
        "s3 = s1 + \" \" + s2\n",
        "print(s3)"
      ],
      "metadata": {
        "colab": {
          "base_uri": "https://localhost:8080/"
        },
        "id": "Di8GCCSZIJ2T",
        "outputId": "7094d8e7-83dc-44f5-f7c5-dd85255a007d"
      },
      "execution_count": 15,
      "outputs": [
        {
          "output_type": "stream",
          "name": "stdout",
          "text": [
            "Hello World\n"
          ]
        }
      ]
    },
    {
      "cell_type": "code",
      "source": [
        "s = \"Hello \"\n",
        "print(s * 3)"
      ],
      "metadata": {
        "colab": {
          "base_uri": "https://localhost:8080/"
        },
        "id": "msEYJKITIOZy",
        "outputId": "6fdea0fe-21b6-4d4c-ff33-1d330d503101"
      },
      "execution_count": 16,
      "outputs": [
        {
          "output_type": "stream",
          "name": "stdout",
          "text": [
            "Hello Hello Hello \n"
          ]
        }
      ]
    },
    {
      "cell_type": "markdown",
      "source": [
        "**Formatting Strings**"
      ],
      "metadata": {
        "id": "m-DA__FiISX0"
      }
    },
    {
      "cell_type": "markdown",
      "source": [
        "Using f-strings"
      ],
      "metadata": {
        "id": "hEsZ_2sLIVol"
      }
    },
    {
      "cell_type": "code",
      "source": [
        "name = \"Alice\"\n",
        "age = 22\n",
        "print(f\"Name: {name}, Age: {age}\")"
      ],
      "metadata": {
        "colab": {
          "base_uri": "https://localhost:8080/"
        },
        "id": "QmR826I8IUAa",
        "outputId": "6cccc100-2ed5-42ec-e5ba-7dd0a66b3014"
      },
      "execution_count": 17,
      "outputs": [
        {
          "output_type": "stream",
          "name": "stdout",
          "text": [
            "Name: Alice, Age: 22\n"
          ]
        }
      ]
    },
    {
      "cell_type": "markdown",
      "source": [
        "Using format()"
      ],
      "metadata": {
        "id": "tPs5kvXeIb9W"
      }
    },
    {
      "cell_type": "code",
      "source": [
        "s = \"My name is {} and I am {} years old.\".format(\"Alice\", 22)\n",
        "print(s)"
      ],
      "metadata": {
        "colab": {
          "base_uri": "https://localhost:8080/"
        },
        "id": "ncmJhug-IeIM",
        "outputId": "e5033ed0-3d84-4a9f-e110-78dee37d34c1"
      },
      "execution_count": 18,
      "outputs": [
        {
          "output_type": "stream",
          "name": "stdout",
          "text": [
            "My name is Alice and I am 22 years old.\n"
          ]
        }
      ]
    },
    {
      "cell_type": "markdown",
      "source": [
        "**Using in for String Membership Testing**"
      ],
      "metadata": {
        "id": "4XjgKpieIij6"
      }
    },
    {
      "cell_type": "code",
      "source": [
        "s = \"PRiyaSingh\"\n",
        "\n",
        "print(\"Singh\" in s)\n",
        "print(\"ps\" in s)"
      ],
      "metadata": {
        "colab": {
          "base_uri": "https://localhost:8080/"
        },
        "id": "vcUmseusIj4G",
        "outputId": "ee81ff13-bb58-4737-b60f-06619f6fd794"
      },
      "execution_count": 19,
      "outputs": [
        {
          "output_type": "stream",
          "name": "stdout",
          "text": [
            "True\n",
            "False\n"
          ]
        }
      ]
    }
  ]
}