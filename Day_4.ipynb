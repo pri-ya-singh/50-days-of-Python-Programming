{
  "nbformat": 4,
  "nbformat_minor": 0,
  "metadata": {
    "colab": {
      "provenance": []
    },
    "kernelspec": {
      "name": "python3",
      "display_name": "Python 3"
    },
    "language_info": {
      "name": "python"
    }
  },
  "cells": [
    {
      "cell_type": "markdown",
      "source": [
        "# **Python Data Types**"
      ],
      "metadata": {
        "id": "7lUO0uRtNXou"
      }
    },
    {
      "cell_type": "markdown",
      "source": [
        "* Numeric - int, float, complex\n",
        "* Sequence Type - string, list, tuple\n",
        "* Mapping Type - dict\n",
        "* Boolean - bool\n",
        "* Set Type - set, frozenset\n",
        "* Binary Types - bytes, bytearray, memoryview"
      ],
      "metadata": {
        "id": "Zpq8jCGLNbud"
      }
    },
    {
      "cell_type": "markdown",
      "source": [
        "**1. Numeric Data Types in Python**"
      ],
      "metadata": {
        "id": "Mc4D4MBRNtom"
      }
    },
    {
      "cell_type": "code",
      "source": [
        "a = 5\n",
        "print(type(a))\n",
        "\n",
        "b=0.5\n",
        "print(type(b))\n",
        "\n",
        "c = 2+4j\n",
        "print(type(c))"
      ],
      "metadata": {
        "colab": {
          "base_uri": "https://localhost:8080/"
        },
        "id": "Y7MfHfkANwFB",
        "outputId": "f560e7be-172f-4b2c-b54e-6e84e542a3a8"
      },
      "execution_count": null,
      "outputs": [
        {
          "output_type": "stream",
          "name": "stdout",
          "text": [
            "<class 'int'>\n",
            "<class 'float'>\n",
            "<class 'complex'>\n"
          ]
        }
      ]
    },
    {
      "cell_type": "markdown",
      "source": [
        "**2. Sequence Data Types in Python**"
      ],
      "metadata": {
        "id": "BlkbC1NxOIfb"
      }
    },
    {
      "cell_type": "code",
      "source": [
        "s = 'welcome to the python world'\n",
        "print(s)\n",
        "\n",
        "print(type(s))\n",
        "\n",
        "print(s[1])\n",
        "print(s[3])\n",
        "print(s[4])"
      ],
      "metadata": {
        "colab": {
          "base_uri": "https://localhost:8080/"
        },
        "id": "Pr0bSd_WOJru",
        "outputId": "d7cf0f67-d707-4a4b-ffee-98869857f9f9"
      },
      "execution_count": null,
      "outputs": [
        {
          "output_type": "stream",
          "name": "stdout",
          "text": [
            "welcome to the python world\n",
            "<class 'str'>\n",
            "e\n",
            "c\n",
            "o\n"
          ]
        }
      ]
    },
    {
      "cell_type": "code",
      "source": [
        "a =[]\n",
        "\n",
        "a=[1, 2, 3, 4, 5]\n",
        "print(a)\n",
        "\n",
        "b=['happy','birth', 'day', 6, 7]\n",
        "print(b)"
      ],
      "metadata": {
        "colab": {
          "base_uri": "https://localhost:8080/"
        },
        "id": "B5BpXGNWOerm",
        "outputId": "ac59ec3a-1426-4995-b745-b998f887046a"
      },
      "execution_count": null,
      "outputs": [
        {
          "output_type": "stream",
          "name": "stdout",
          "text": [
            "[1, 2, 3, 4, 5]\n",
            "['happy', 'birth', 'day', 6, 7]\n"
          ]
        }
      ]
    },
    {
      "cell_type": "code",
      "source": [
        "a = ['happy', 'birth', 'day']\n",
        "print(\"Accessing element from list : \")\n",
        "print(a[0])\n",
        "print(a[2])\n",
        "\n",
        "print(\"Accessing element using negative indexing : \")\n",
        "print(a[-1])\n",
        "print(a[-3])"
      ],
      "metadata": {
        "colab": {
          "base_uri": "https://localhost:8080/"
        },
        "id": "QyypXOJMO0_l",
        "outputId": "83c6d350-6316-4b34-b68f-612113291ce6"
      },
      "execution_count": null,
      "outputs": [
        {
          "output_type": "stream",
          "name": "stdout",
          "text": [
            "Accessing element from list : \n",
            "happy\n",
            "day\n",
            "Accessing element using negative indexing : \n",
            "day\n",
            "happy\n"
          ]
        }
      ]
    },
    {
      "cell_type": "markdown",
      "source": [
        "Tuple Data Type"
      ],
      "metadata": {
        "id": "dyzh3D3_Py7_"
      }
    },
    {
      "cell_type": "code",
      "source": [
        "tup1 = ()\n",
        "\n",
        "tup2 = (\"priya\", \"singh\")\n",
        "print(\"\\nTuple with the use of string : \", tup2)"
      ],
      "metadata": {
        "colab": {
          "base_uri": "https://localhost:8080/"
        },
        "id": "0iFVCRUrP2pV",
        "outputId": "692bfddb-85d8-401a-b9e1-a034eb0d535a"
      },
      "execution_count": null,
      "outputs": [
        {
          "output_type": "stream",
          "name": "stdout",
          "text": [
            "\n",
            "Tuple with the use of string :  ('priya', 'singh')\n"
          ]
        }
      ]
    },
    {
      "cell_type": "code",
      "source": [
        "tup1 = tuple([1, 2, 3, 4, 5])\n",
        "\n",
        "print(tup1[0])\n",
        "print(tup1[-1])\n",
        "print(tup1[-3])"
      ],
      "metadata": {
        "colab": {
          "base_uri": "https://localhost:8080/"
        },
        "id": "PnPbTIa8QM-N",
        "outputId": "ce06a21f-1d4b-4cac-ea71-16eda10b3fb6"
      },
      "execution_count": null,
      "outputs": [
        {
          "output_type": "stream",
          "name": "stdout",
          "text": [
            "1\n",
            "5\n",
            "3\n"
          ]
        }
      ]
    },
    {
      "cell_type": "markdown",
      "source": [
        "**3. Boolean Data Type in Python**"
      ],
      "metadata": {
        "id": "jjl16qTQQeNR"
      }
    },
    {
      "cell_type": "code",
      "source": [
        "print(type(True))\n",
        "print(type(False))\n",
        "print(type(true))"
      ],
      "metadata": {
        "colab": {
          "base_uri": "https://localhost:8080/",
          "height": 211
        },
        "id": "f4_GsdL1QfWA",
        "outputId": "78472f62-a430-4d83-fa8f-1b545898818c"
      },
      "execution_count": null,
      "outputs": [
        {
          "output_type": "stream",
          "name": "stdout",
          "text": [
            "<class 'bool'>\n",
            "<class 'bool'>\n"
          ]
        },
        {
          "output_type": "error",
          "ename": "NameError",
          "evalue": "name 'true' is not defined",
          "traceback": [
            "\u001b[0;31m---------------------------------------------------------------------------\u001b[0m",
            "\u001b[0;31mNameError\u001b[0m                                 Traceback (most recent call last)",
            "\u001b[0;32m/tmp/ipython-input-1128525655.py\u001b[0m in \u001b[0;36m<cell line: 0>\u001b[0;34m()\u001b[0m\n\u001b[1;32m      1\u001b[0m \u001b[0mprint\u001b[0m\u001b[0;34m(\u001b[0m\u001b[0mtype\u001b[0m\u001b[0;34m(\u001b[0m\u001b[0;32mTrue\u001b[0m\u001b[0;34m)\u001b[0m\u001b[0;34m)\u001b[0m\u001b[0;34m\u001b[0m\u001b[0;34m\u001b[0m\u001b[0m\n\u001b[1;32m      2\u001b[0m \u001b[0mprint\u001b[0m\u001b[0;34m(\u001b[0m\u001b[0mtype\u001b[0m\u001b[0;34m(\u001b[0m\u001b[0;32mFalse\u001b[0m\u001b[0;34m)\u001b[0m\u001b[0;34m)\u001b[0m\u001b[0;34m\u001b[0m\u001b[0;34m\u001b[0m\u001b[0m\n\u001b[0;32m----> 3\u001b[0;31m \u001b[0mprint\u001b[0m\u001b[0;34m(\u001b[0m\u001b[0mtype\u001b[0m\u001b[0;34m(\u001b[0m\u001b[0mtrue\u001b[0m\u001b[0;34m)\u001b[0m\u001b[0;34m)\u001b[0m\u001b[0;34m\u001b[0m\u001b[0;34m\u001b[0m\u001b[0m\n\u001b[0m",
            "\u001b[0;31mNameError\u001b[0m: name 'true' is not defined"
          ]
        }
      ]
    },
    {
      "cell_type": "markdown",
      "source": [
        "**4. Set Data Type in Python**"
      ],
      "metadata": {
        "id": "fkKvfvqGQn0E"
      }
    },
    {
      "cell_type": "code",
      "source": [
        "s1 = set()\n",
        "s1 = set(\"priya\")\n",
        "print(\"Set with the use of String: \", s1)\n",
        "\n",
        "s2= set(['happy', 'birth', 'day'])\n",
        "print(\"Set with the use of List: \", s2)"
      ],
      "metadata": {
        "colab": {
          "base_uri": "https://localhost:8080/"
        },
        "id": "ZW4-TQPqQqTD",
        "outputId": "19b7f466-ad2a-4a3d-a54c-f5191a828670"
      },
      "execution_count": null,
      "outputs": [
        {
          "output_type": "stream",
          "name": "stdout",
          "text": [
            "Set with the use of String:  {'p', 'r', 'a', 'i', 'y'}\n",
            "Set with the use of List:  {'happy', 'birth', 'day'}\n"
          ]
        }
      ]
    },
    {
      "cell_type": "code",
      "source": [
        "set1 = set(['happy', 'birth', 'day'])\n",
        "print(set1)\n",
        "\n",
        "for i in set1:\n",
        "    print(i, end=\" \")\n",
        "\n",
        "print(\"day\" in set1)"
      ],
      "metadata": {
        "colab": {
          "base_uri": "https://localhost:8080/"
        },
        "id": "zZMELbCpRKIM",
        "outputId": "29b56a11-17c3-4912-ba5e-db454891c648"
      },
      "execution_count": null,
      "outputs": [
        {
          "output_type": "stream",
          "name": "stdout",
          "text": [
            "{'happy', 'birth', 'day'}\n",
            "happy birth day True\n"
          ]
        }
      ]
    },
    {
      "cell_type": "markdown",
      "source": [
        "**5. Dictionary Data Type**"
      ],
      "metadata": {
        "id": "nOGK0n5LRZeS"
      }
    },
    {
      "cell_type": "code",
      "source": [
        "d = {}\n",
        "\n",
        "d= {1:\"Priya\", 2:\"Sneha\", 3:\"Ashu\"}\n",
        "print(d)\n",
        "\n",
        "d1 = dict({1:\"Priya\", 2:\"Sneha\", 3:\"Ashu\"})\n",
        "print(d1)"
      ],
      "metadata": {
        "colab": {
          "base_uri": "https://localhost:8080/"
        },
        "id": "AvIXBCHeRby7",
        "outputId": "c34936c0-873c-49f6-f5d0-ff649e0c2a07"
      },
      "execution_count": null,
      "outputs": [
        {
          "output_type": "stream",
          "name": "stdout",
          "text": [
            "{1: 'Priya', 2: 'Sneha', 3: 'Ashu'}\n",
            "{1: 'Priya', 2: 'Sneha', 3: 'Ashu'}\n"
          ]
        }
      ]
    },
    {
      "cell_type": "code",
      "source": [
        "d= {\"name\":\"Priya\", 2:\"Sneha\", 3:\"Ashu\"}\n",
        "print(d['name'])\n",
        "\n",
        "print(d.get(3))"
      ],
      "metadata": {
        "colab": {
          "base_uri": "https://localhost:8080/"
        },
        "id": "4y0JHa8yR43R",
        "outputId": "9f5f45c9-07a4-48f7-b3bd-5843a5e33049"
      },
      "execution_count": null,
      "outputs": [
        {
          "output_type": "stream",
          "name": "stdout",
          "text": [
            "Priya\n",
            "Ashu\n"
          ]
        }
      ]
    }
  ]
}