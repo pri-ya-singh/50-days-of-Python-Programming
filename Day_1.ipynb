{
  "nbformat": 4,
  "nbformat_minor": 0,
  "metadata": {
    "colab": {
      "provenance": []
    },
    "kernelspec": {
      "name": "python3",
      "display_name": "Python 3"
    },
    "language_info": {
      "name": "python"
    }
  },
  "cells": [
    {
      "cell_type": "markdown",
      "source": [
        "# **Taking input in Python**"
      ],
      "metadata": {
        "id": "On0XqzxqgnEF"
      }
    },
    {
      "cell_type": "code",
      "source": [
        "name = input(\"Enter your name:\")\n",
        "print(\"hii \", name, \"welcome back !!\")"
      ],
      "metadata": {
        "colab": {
          "base_uri": "https://localhost:8080/"
        },
        "id": "6nLPvwqEgic7",
        "outputId": "14f8f497-b428-453e-ef8a-5f8fe761d37a"
      },
      "execution_count": 3,
      "outputs": [
        {
          "output_type": "stream",
          "name": "stdout",
          "text": [
            "Enter your name:priya\n",
            "hii  priya welcome back !!\n"
          ]
        }
      ]
    },
    {
      "cell_type": "markdown",
      "source": [
        "# **Printing Output using print() in Python**"
      ],
      "metadata": {
        "id": "GmX3nuFkutG8"
      }
    },
    {
      "cell_type": "code",
      "source": [
        "print(\"Hello, World!\")"
      ],
      "metadata": {
        "colab": {
          "base_uri": "https://localhost:8080/"
        },
        "id": "n5Ec7bqMgilq",
        "outputId": "d8464d64-c2d7-49f7-aaa5-c7528bc59a81"
      },
      "execution_count": 4,
      "outputs": [
        {
          "output_type": "stream",
          "name": "stdout",
          "text": [
            "Hello, World!\n"
          ]
        }
      ]
    },
    {
      "cell_type": "markdown",
      "source": [
        "**Printing Variables**"
      ],
      "metadata": {
        "id": "a-4LrhslhEZD"
      }
    },
    {
      "cell_type": "code",
      "source": [
        "s = \"Priya\"\n",
        "print (s)\n",
        "\n",
        "a = 1\n",
        "name = \"priya\"\n",
        "age = 20\n",
        "city = \"satna\"\n",
        "\n",
        "print(a,\". \", name,age, city)"
      ],
      "metadata": {
        "colab": {
          "base_uri": "https://localhost:8080/"
        },
        "id": "W3DeY-usgipB",
        "outputId": "9f5d38d6-63e0-4e98-86c3-778b0cd10353"
      },
      "execution_count": 7,
      "outputs": [
        {
          "output_type": "stream",
          "name": "stdout",
          "text": [
            "Priya\n",
            "1 .  priya 20 satna\n"
          ]
        }
      ]
    },
    {
      "cell_type": "markdown",
      "source": [
        "**Take Multiple Input in Python**"
      ],
      "metadata": {
        "id": "p2zcDEw4hjId"
      }
    },
    {
      "cell_type": "code",
      "source": [
        "x,y = input(\"Enter two values : \").split()\n",
        "print(\"X is : \", x)\n",
        "print(\"Y is : \", y)\n"
      ],
      "metadata": {
        "colab": {
          "base_uri": "https://localhost:8080/"
        },
        "id": "EoMLz_qigiza",
        "outputId": "e63929a8-397d-46bd-b059-1e4ee42bca97"
      },
      "execution_count": 8,
      "outputs": [
        {
          "output_type": "stream",
          "name": "stdout",
          "text": [
            "Enter two values : 20 30\n",
            "X is :  20\n",
            "Y is :  30\n"
          ]
        }
      ]
    },
    {
      "cell_type": "markdown",
      "source": [
        "**Print Names in Python**"
      ],
      "metadata": {
        "id": "Ixm2L-3siGlw"
      }
    },
    {
      "cell_type": "code",
      "source": [
        "color = input(\"Color of rose is : \")\n",
        "print(color)"
      ],
      "metadata": {
        "colab": {
          "base_uri": "https://localhost:8080/"
        },
        "id": "PGmlOYB0iQ7f",
        "outputId": "cfa3c0ae-5684-4f38-aa6f-841d2b7ee1e5"
      },
      "execution_count": 9,
      "outputs": [
        {
          "output_type": "stream",
          "name": "stdout",
          "text": [
            "Color of rose is : red\n",
            "red\n"
          ]
        }
      ]
    },
    {
      "cell_type": "markdown",
      "source": [
        "**Print Numbers in Python**"
      ],
      "metadata": {
        "id": "fSkx3xN0igt0"
      }
    },
    {
      "cell_type": "code",
      "source": [
        "n = int(input(\"How many roses do you want ? : \"))\n",
        "print(n)"
      ],
      "metadata": {
        "colab": {
          "base_uri": "https://localhost:8080/"
        },
        "id": "H717uzo1iRH9",
        "outputId": "f2ebb4e5-fbce-44dd-c250-6df82c5cc44a"
      },
      "execution_count": 10,
      "outputs": [
        {
          "output_type": "stream",
          "name": "stdout",
          "text": [
            "How many roses do you want ? : 999\n",
            "999\n"
          ]
        }
      ]
    },
    {
      "cell_type": "code",
      "source": [
        "price = float(input(\"Price of each rose?: \"))\n",
        "print(price)"
      ],
      "metadata": {
        "colab": {
          "base_uri": "https://localhost:8080/"
        },
        "id": "5gRcKo2PiRLh",
        "outputId": "3dfc688e-5b97-439b-e92f-44f8bb5bbfeb"
      },
      "execution_count": 11,
      "outputs": [
        {
          "output_type": "stream",
          "name": "stdout",
          "text": [
            "Price of each rose?: 20.5\n",
            "20.5\n"
          ]
        }
      ]
    },
    {
      "cell_type": "markdown",
      "source": [
        "**Find DataType of Input in Python**"
      ],
      "metadata": {
        "id": "Gr_qLrlBvAoD"
      }
    },
    {
      "cell_type": "code",
      "source": [
        "a = \"Hello World\"\n",
        "b = 10\n",
        "c = 11.22\n",
        "d = (\"Geeks\", \"for\", \"Geeks\")\n",
        "e = [\"Geeks\", \"for\", \"Geeks\"]\n",
        "f = {\"Geeks\": 1, \"for\":2, \"Geeks\":3}\n",
        "\n",
        "\n",
        "print(type(a))\n",
        "print(type(b))\n",
        "print(type(c))\n",
        "print(type(d))\n",
        "print(type(e))\n",
        "print(type(f))"
      ],
      "metadata": {
        "colab": {
          "base_uri": "https://localhost:8080/"
        },
        "id": "76OBTOCiiyM4",
        "outputId": "f5ab7ce9-8265-432d-a181-bb87cc112d96"
      },
      "execution_count": 12,
      "outputs": [
        {
          "output_type": "stream",
          "name": "stdout",
          "text": [
            "<class 'str'>\n",
            "<class 'int'>\n",
            "<class 'float'>\n",
            "<class 'tuple'>\n",
            "<class 'list'>\n",
            "<class 'dict'>\n"
          ]
        }
      ]
    },
    {
      "cell_type": "markdown",
      "source": [
        "# **Output Formatting**"
      ],
      "metadata": {
        "id": "xgekk5Ibi8Uy"
      }
    },
    {
      "cell_type": "markdown",
      "source": [
        "**Example 1: Using Format()**"
      ],
      "metadata": {
        "id": "YT3zwoQpjjRP"
      }
    },
    {
      "cell_type": "code",
      "source": [
        "amount = 150.5\n",
        "print(\"Amount: ${:.2f}\".format(amount))"
      ],
      "metadata": {
        "colab": {
          "base_uri": "https://localhost:8080/"
        },
        "id": "dk4gFixYiyPs",
        "outputId": "420b5d2f-c486-430e-d8db-e78016eadafe"
      },
      "execution_count": 13,
      "outputs": [
        {
          "output_type": "stream",
          "name": "stdout",
          "text": [
            "Amount: $150.50\n"
          ]
        }
      ]
    },
    {
      "cell_type": "markdown",
      "source": [
        "**Example 2: Using sep and end parameter**"
      ],
      "metadata": {
        "id": "B5twVYjAjzf2"
      }
    },
    {
      "cell_type": "code",
      "source": [
        "# end Parameter with '@'\n",
        "print(\"python\", end='@')\n",
        "print(\"is a programming language\")"
      ],
      "metadata": {
        "colab": {
          "base_uri": "https://localhost:8080/"
        },
        "id": "DmseFhACiyS1",
        "outputId": "257ff0f2-871e-48b4-ec84-f4ba91f1595b"
      },
      "execution_count": 14,
      "outputs": [
        {
          "output_type": "stream",
          "name": "stdout",
          "text": [
            "python@is a programming language\n"
          ]
        }
      ]
    },
    {
      "cell_type": "code",
      "source": [
        "# Seprating with Comma\n",
        "print('V','I','T', sep='')"
      ],
      "metadata": {
        "colab": {
          "base_uri": "https://localhost:8080/"
        },
        "id": "tCkWojKAiyWR",
        "outputId": "2b6d01f4-d17e-4dad-f842-83195fd4aab0"
      },
      "execution_count": 15,
      "outputs": [
        {
          "output_type": "stream",
          "name": "stdout",
          "text": [
            "VIT\n"
          ]
        }
      ]
    },
    {
      "cell_type": "code",
      "source": [
        "# for formatting a date\n",
        "print('02','08','2025', sep='-')"
      ],
      "metadata": {
        "colab": {
          "base_uri": "https://localhost:8080/"
        },
        "id": "JmgIkdF6kb3Y",
        "outputId": "a7a188e6-1ca3-465d-89c0-5ef6076470a9"
      },
      "execution_count": 16,
      "outputs": [
        {
          "output_type": "stream",
          "name": "stdout",
          "text": [
            "02-08-2025\n"
          ]
        }
      ]
    },
    {
      "cell_type": "markdown",
      "source": [
        "**Example 3: Using f-string**"
      ],
      "metadata": {
        "id": "JG0VEVh0kpAy"
      }
    },
    {
      "cell_type": "code",
      "source": [
        "name = 'priya'\n",
        "age = 20\n",
        "print(f\"Hello, my name is {name} and I'm {age} year old\")"
      ],
      "metadata": {
        "colab": {
          "base_uri": "https://localhost:8080/"
        },
        "id": "o8Jo8pH0klPE",
        "outputId": "0e18c660-3e51-478b-d997-39ce93a44086"
      },
      "execution_count": 17,
      "outputs": [
        {
          "output_type": "stream",
          "name": "stdout",
          "text": [
            "Hello, my name is priya and I'm 20 year old\n"
          ]
        }
      ]
    },
    {
      "cell_type": "markdown",
      "source": [
        "**Example 4: Using % Operator**"
      ],
      "metadata": {
        "id": "edZrjq0CuIpU"
      }
    },
    {
      "cell_type": "code",
      "source": [
        "n = int(input(\"Enter a number : \"))\n",
        "add = n +5\n",
        "print(\"The sum is %d\" %add)"
      ],
      "metadata": {
        "colab": {
          "base_uri": "https://localhost:8080/"
        },
        "id": "sUjjyDNMuEnz",
        "outputId": "e0515857-b585-4ba6-b5f6-ede4b3c51861"
      },
      "execution_count": 18,
      "outputs": [
        {
          "output_type": "stream",
          "name": "stdout",
          "text": [
            "Enter a number : 8\n",
            "The sum is 13\n"
          ]
        }
      ]
    },
    {
      "cell_type": "code",
      "source": [],
      "metadata": {
        "id": "0450KoububyD"
      },
      "execution_count": null,
      "outputs": []
    },
    {
      "cell_type": "code",
      "source": [],
      "metadata": {
        "id": "Y7G33rt2ub1j"
      },
      "execution_count": null,
      "outputs": []
    }
  ]
}