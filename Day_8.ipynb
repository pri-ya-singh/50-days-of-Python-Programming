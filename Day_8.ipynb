{
  "nbformat": 4,
  "nbformat_minor": 0,
  "metadata": {
    "colab": {
      "provenance": []
    },
    "kernelspec": {
      "name": "python3",
      "display_name": "Python 3"
    },
    "language_info": {
      "name": "python"
    }
  },
  "cells": [
    {
      "cell_type": "markdown",
      "source": [
        "# **Python Lambda Functions**"
      ],
      "metadata": {
        "id": "b8ds-BBWHBkP"
      }
    },
    {
      "cell_type": "markdown",
      "source": [
        "Python Lambda Functions are anonymous functions means that the function is without a name."
      ],
      "metadata": {
        "id": "lAfEIdSPHU5r"
      }
    },
    {
      "cell_type": "code",
      "source": [
        "s1= \"GeeksforGeeks\"\n",
        "\n",
        "s2 = lambda func: func.upper()\n",
        "print(s2(s1))"
      ],
      "metadata": {
        "colab": {
          "base_uri": "https://localhost:8080/"
        },
        "id": "U__ImE9UHHUJ",
        "outputId": "7b45070e-d5b0-43d7-b41d-6bd7e6a437b5"
      },
      "execution_count": 1,
      "outputs": [
        {
          "output_type": "stream",
          "name": "stdout",
          "text": [
            "GEEKSFORGEEKS\n"
          ]
        }
      ]
    },
    {
      "cell_type": "markdown",
      "source": [
        "**lambda with Condition Checking**"
      ],
      "metadata": {
        "id": "q0NqxEXxH2P2"
      }
    },
    {
      "cell_type": "code",
      "source": [
        "n = lambda x: \"Positive\" if x>0 else \"Negative\" if x<0 else \"Zero\"\n",
        "\n",
        "print(n(5))\n",
        "print(n(-3))\n",
        "print(n(0))"
      ],
      "metadata": {
        "colab": {
          "base_uri": "https://localhost:8080/"
        },
        "id": "DVOQpZ-bH4Qk",
        "outputId": "4171d68b-9ce8-4c25-b160-72fde7ab5e55"
      },
      "execution_count": 2,
      "outputs": [
        {
          "output_type": "stream",
          "name": "stdout",
          "text": [
            "Positive\n",
            "Negative\n",
            "Zero\n"
          ]
        }
      ]
    },
    {
      "cell_type": "markdown",
      "source": [
        "**Difference Between lambda and def Keyword**"
      ],
      "metadata": {
        "id": "HY93qf3RIbS0"
      }
    },
    {
      "cell_type": "code",
      "source": [
        "sq = lambda x: x**2\n",
        "print (sq(3))\n",
        "\n",
        "def sqdef(x):\n",
        "  return x**2\n",
        "print(sqdef(3))"
      ],
      "metadata": {
        "colab": {
          "base_uri": "https://localhost:8080/"
        },
        "id": "EUGAj7KaIcWR",
        "outputId": "72571477-2c34-4158-bea0-0dd38d78f7e1"
      },
      "execution_count": 3,
      "outputs": [
        {
          "output_type": "stream",
          "name": "stdout",
          "text": [
            "9\n",
            "9\n"
          ]
        }
      ]
    },
    {
      "cell_type": "markdown",
      "source": [
        "**Lambda with List Comprehension**"
      ],
      "metadata": {
        "id": "8ZoPRqUhIw8v"
      }
    },
    {
      "cell_type": "code",
      "source": [
        "li = [lambda arg = x: arg*10 for x in range(1,5)]\n",
        "for i in li:\n",
        "  print(i())"
      ],
      "metadata": {
        "colab": {
          "base_uri": "https://localhost:8080/"
        },
        "id": "PO-R6LpgIzME",
        "outputId": "c85e6e8e-062f-4188-ff52-d3a53266953f"
      },
      "execution_count": 4,
      "outputs": [
        {
          "output_type": "stream",
          "name": "stdout",
          "text": [
            "10\n",
            "20\n",
            "30\n",
            "40\n"
          ]
        }
      ]
    },
    {
      "cell_type": "markdown",
      "source": [
        "**Lambda with if-else**"
      ],
      "metadata": {
        "id": "DJw0nqUaJISX"
      }
    },
    {
      "cell_type": "code",
      "source": [
        "check = lambda x: \"Even\" if x%2==0 else \"Odd\"\n",
        "\n",
        "print(check(8))\n",
        "print(check(7))"
      ],
      "metadata": {
        "colab": {
          "base_uri": "https://localhost:8080/"
        },
        "id": "K8WR_xDbJMnJ",
        "outputId": "54d6a8bb-1911-40eb-9501-6d7655bffae5"
      },
      "execution_count": 5,
      "outputs": [
        {
          "output_type": "stream",
          "name": "stdout",
          "text": [
            "Even\n",
            "Odd\n"
          ]
        }
      ]
    },
    {
      "cell_type": "markdown",
      "source": [
        "**Lambda with Multiple Statements**"
      ],
      "metadata": {
        "id": "Wa1c3u74JMQK"
      }
    },
    {
      "cell_type": "code",
      "source": [
        "calc = lambda x, y:(x+y, x*y)\n",
        "\n",
        "res = calc(3,4)\n",
        "print(res)"
      ],
      "metadata": {
        "colab": {
          "base_uri": "https://localhost:8080/"
        },
        "id": "rZuyCbf3KIKb",
        "outputId": "a64878f1-c1ea-40d4-836c-5eb2e3838288"
      },
      "execution_count": 6,
      "outputs": [
        {
          "output_type": "stream",
          "name": "stdout",
          "text": [
            "(7, 12)\n"
          ]
        }
      ]
    },
    {
      "cell_type": "markdown",
      "source": [
        "**Using lambda with filter()**"
      ],
      "metadata": {
        "id": "EaWEtVKbMvP2"
      }
    },
    {
      "cell_type": "code",
      "source": [
        "n = [1, 2, 3, 4, 5, 6]\n",
        "even = filter(lambda x: x%2 ==0, n)\n",
        "print(list(even))"
      ],
      "metadata": {
        "colab": {
          "base_uri": "https://localhost:8080/"
        },
        "id": "xh87Evp7MyQN",
        "outputId": "f7d6fcc5-98ad-46f8-e55a-64221de5ccf5"
      },
      "execution_count": 7,
      "outputs": [
        {
          "output_type": "stream",
          "name": "stdout",
          "text": [
            "[2, 4, 6]\n"
          ]
        }
      ]
    },
    {
      "cell_type": "markdown",
      "source": [
        "**Using lambda with map()**"
      ],
      "metadata": {
        "id": "KnQdFnalNNJI"
      }
    },
    {
      "cell_type": "code",
      "source": [
        "a = [1, 2, 3, 4, 5]\n",
        "b = map(lambda x: x*2, a)\n",
        "print(list(b))"
      ],
      "metadata": {
        "colab": {
          "base_uri": "https://localhost:8080/"
        },
        "id": "Y8Q71-_LNPpE",
        "outputId": "5fe99f02-f5d0-41a0-ab88-4b66ff46a1a4"
      },
      "execution_count": 8,
      "outputs": [
        {
          "output_type": "stream",
          "name": "stdout",
          "text": [
            "[2, 4, 6, 8, 10]\n"
          ]
        }
      ]
    },
    {
      "cell_type": "markdown",
      "source": [
        "**Using lambda with reduce()**"
      ],
      "metadata": {
        "id": "Fj634pk4NczJ"
      }
    },
    {
      "cell_type": "code",
      "source": [
        "from functools import reduce\n",
        "\n",
        "a = [1, 2, 3, 4]\n",
        "b = reduce(lambda x, y: x * y, a)\n",
        "print(b)"
      ],
      "metadata": {
        "colab": {
          "base_uri": "https://localhost:8080/"
        },
        "id": "t7ol12ZENez2",
        "outputId": "37daed27-982b-472f-cc1b-d0a4c51d7d41"
      },
      "execution_count": 9,
      "outputs": [
        {
          "output_type": "stream",
          "name": "stdout",
          "text": [
            "24\n"
          ]
        }
      ]
    }
  ]
}